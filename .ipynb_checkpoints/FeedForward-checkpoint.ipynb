{
 "cells": [
  {
   "cell_type": "markdown",
   "metadata": {
    "pycharm": {
     "name": "#%% md\n"
    }
   },
   "source": [
    "This is the feedforward neuronal model "
   ]
  },
  {
   "cell_type": "code",
   "execution_count": 1,
   "metadata": {
    "pycharm": {
     "name": "#%%\n"
    }
   },
   "outputs": [],
   "source": [
    "from foundations.helpers import scale_input_theory\n",
    "from brian2 import *\n",
    "from foundations.helpers import scale_to_freq\n",
    "from foundations.make_dynamic_experiments import make_dynamic_experiments\n",
    "import numpy as np\n",
    "import matplotlib.pyplot as plt\n",
    "import pandas as pd\n",
    "from models.currentmodel import Barrel_PC, Barrel_IN\n",
    "%matplotlib inline"
   ]
  },
  {
   "cell_type": "code",
   "execution_count": 2,
   "metadata": {
    "pycharm": {
     "name": "#%%\n"
    }
   },
   "outputs": [],
   "source": [
    "#parameters setting \n",
    "#TODO: set these parameters in a file\n",
    "baseline = 0\n",
    "theta = 0\n",
    "factor_ron_roff = 2\n",
    "tau_PC = 250\n",
    "ron_PC = 1./(tau_PC*(1+factor_ron_roff))\n",
    "roff_PC = factor_ron_roff*ron_PC\n",
    "mean_firing_rate_PC = (0.1)/1000\n",
    "duration_PC = 100000\n",
    "tau_IN = 50\n",
    "ron_IN = 1./(tau_IN*(1+factor_ron_roff))\n",
    "roff_IN = factor_ron_roff*ron_IN\n",
    "mean_firing_rate_IN = (0.5)/1000\n",
    "duration_IN = 20000\n",
    "sampling_rate = 5\n",
    "dt = 1/sampling_rate\n",
    "qon_qoff_type = 'balanced'\n",
    "Er_exc, Er_inh = (0, -75)\n",
    "target_PC = 1.4233\n",
    "target_IN = 6.6397\n",
    "on_off_ratio = 1.5\n",
    "scale_list = np.append([1], np.arange(2.5, 302.5, 2.5))\n",
    "scales = {'CC_PC':19, 'DC_PC':30, 'CC_IN':17, 'DC_IN':6}\n",
    "N_runs = 1\n",
    "defaultclock.dt = dt*ms\n",
    "PC_i = 35\n",
    "IN_i = 11"
   ]
  },
  {
   "cell_type": "code",
   "execution_count": 3,
   "metadata": {
    "pycharm": {
     "name": "#%%\n"
    }
   },
   "outputs": [],
   "source": [
    "#Getting the input\n",
    "[input_theory, dynamic_theory, hidden_state] = make_dynamic_experiments(qon_qoff_type, baseline, tau_PC, factor_ron_roff, mean_firing_rate_PC, sampling_rate, duration_PC)\n",
    "inj_input = scale_input_theory(input_theory, 'current', 0, scales['CC_IN'], dt)"
   ]
  },
  {
   "cell_type": "code",
   "execution_count": null,
   "metadata": {
    "pycharm": {
     "name": "#%%\n"
    }
   },
   "outputs": [],
   "source": [
    "start_scope()\n",
    "net = Network()\n",
    "\n",
    "#Initialising the neuron classes\n",
    "PC = Barrel_PC(dt=dt)\n",
    "IN = Barrel_IN(dt=dt)\n",
    "#Getting the neurongroups\n",
    "PC_neuron = PC.getNeurongroup()\n",
    "PC_neuron_ref = PC.getNeurongroup() #making a reference neuron \n",
    "IN_neuron = IN.getNeurongroup()\n",
    "#adding the neurons to the network\n",
    "net.add(PC_neuron, IN_neuron, PC_neuron_ref)\n",
    "\n",
    "#getting the statemonitors from befor the connection \n",
    "PC_M_ref = StateMonitor(PC_neuron_ref, 'v', record=True)\n",
    "IN_M = StateMonitor(IN_neuron, 'v', record=True)\n",
    "net.add(PC_M_ref, IN_M)\n",
    "#making the synapse\n",
    "\n",
    "param = PC.getNamespace().update(IN.getNamespace()) #getting all the parameters for in the synapse\n",
    "syn = Synapses(IN_neuron, PC_neuron, on_pre='''v_post += 10*mV''', namespace = param)\n",
    "\n",
    "syn.connect()\n",
    "\n",
    "PC_M = StateMonitor(PC_neuron, 'v', record=True)\n",
    "net.add(syn, PC_M)\n",
    "\n",
    "run(1*second)\n"
   ]
  },
  {
   "cell_type": "code",
   "execution_count": 8,
   "metadata": {
    "pycharm": {
     "name": "#%%\n"
    }
   },
   "outputs": [
    {
     "ename": "NameError",
     "evalue": "name 'PC_M_pre' is not defined",
     "output_type": "error",
     "traceback": [
      "\u001b[1;31m---------------------------------------------------------------------------\u001b[0m",
      "\u001b[1;31mNameError\u001b[0m                                 Traceback (most recent call last)",
      "Input \u001b[1;32mIn [8]\u001b[0m, in \u001b[0;36m<cell line: 3>\u001b[1;34m()\u001b[0m\n\u001b[0;32m      1\u001b[0m figure(figsize\u001b[38;5;241m=\u001b[39m(\u001b[38;5;241m4\u001b[39m, \u001b[38;5;241m8\u001b[39m))\n\u001b[0;32m      2\u001b[0m subplot(\u001b[38;5;241m211\u001b[39m)\n\u001b[1;32m----> 3\u001b[0m plot(\u001b[43mPC_M_pre\u001b[49m\u001b[38;5;241m.\u001b[39mt\u001b[38;5;241m/\u001b[39mms, PC_M_pre\u001b[38;5;241m.\u001b[39mv[\u001b[38;5;241m0\u001b[39m], label\u001b[38;5;241m=\u001b[39m\u001b[38;5;124m'\u001b[39m\u001b[38;5;124mpre_PC\u001b[39m\u001b[38;5;124m'\u001b[39m)\n\u001b[0;32m      4\u001b[0m plot(IN_M\u001b[38;5;241m.\u001b[39mt\u001b[38;5;241m/\u001b[39mms, IN_M\u001b[38;5;241m.\u001b[39mv[\u001b[38;5;241m0\u001b[39m], label\u001b[38;5;241m=\u001b[39m\u001b[38;5;124m\"\u001b[39m\u001b[38;5;124mpre_IN\u001b[39m\u001b[38;5;124m\"\u001b[39m)\n\u001b[0;32m      5\u001b[0m legend()\n",
      "\u001b[1;31mNameError\u001b[0m: name 'PC_M_pre' is not defined"
     ]
    },
    {
     "data": {
      "image/png": "[encoded data removed]",
      "text/plain": [
       "<Figure size 288x576 with 1 Axes>"
      ]
     },
     "metadata": {
      "needs_background": "light"
     },
     "output_type": "display_data"
    }
   ],
   "source": [
    "figure(figsize=(4, 8))\n",
    "subplot(211)\n",
    "plot(PC_M_ref.t/ms, PC_M_pre.v[0], label='pre_PC')\n",
    "plot(IN_M.t/ms, IN_M.v[0], label=\"pre_IN\")\n",
    "legend()\n",
    "\n",
    "subplot(212)\n",
    "plot(PC_M_pre.t/ms, PC_M_pre.v[0], label='pre_PC')\n",
    "plot(post_PC_M.t/ms, post_PC_M.v[0], label=\"post_PC\")\n",
    "legend(loc='best')\n",
    "xlabel('Time (ms)');"
   ]
  },
  {
   "cell_type": "code",
   "execution_count": null,
   "metadata": {
    "pycharm": {
     "name": "#%%\n"
    }
   },
   "outputs": [],
   "source": []
  },
  {
   "cell_type": "code",
   "execution_count": null,
   "metadata": {
    "pycharm": {
     "name": "#%%\n"
    }
   },
   "outputs": [],
   "source": []
  }
 ],
 "metadata": {
  "kernelspec": {
   "display_name": "Python 3 (ipykernel)",
   "language": "python",
   "name": "python3"
  },
  "language_info": {
   "codemirror_mode": {
    "name": "ipython",
    "version": 3
   },
   "file_extension": ".py",
   "mimetype": "text/x-python",
   "name": "python",
   "nbconvert_exporter": "python",
   "pygments_lexer": "ipython3",
   "version": "3.8.13"
  }
 },
 "nbformat": 4,
 "nbformat_minor": 1
}
