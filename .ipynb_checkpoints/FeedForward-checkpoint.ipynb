{
 "cells": [
  {
   "cell_type": "markdown",
   "metadata": {
    "pycharm": {
     "name": "#%% md\n"
    }
   },
   "source": [
    "This is the feedforward neuronal model "
   ]
  },
  {
   "cell_type": "code",
   "execution_count": 21,
   "metadata": {
    "pycharm": {
     "name": "#%%\n"
    }
   },
   "outputs": [],
   "source": [
    "from foundations.helpers import scale_input_theory\n",
    "from brian2 import *\n",
    "from models.currentmodel import Barrel_PC, Barrel_IN\n",
    "from foundations.helpers import scale_to_freq\n",
    "from foundations.make_dynamic_experiments import make_dynamic_experiments\n",
    "import numpy as np\n",
    "import matplotlib.pyplot as plt\n",
    "import pandas as pd"
   ]
  },
  {
   "cell_type": "code",
   "execution_count": 22,
   "metadata": {
    "pycharm": {
     "name": "#%%\n"
    }
   },
   "outputs": [],
   "source": [
    "#parameters setting \n",
    "#TODO: set these parameters in a file\n",
    "baseline = 0\n",
    "theta = 0\n",
    "factor_ron_roff = 2\n",
    "tau_PC = 250\n",
    "ron_PC = 1./(tau_PC*(1+factor_ron_roff))\n",
    "roff_PC = factor_ron_roff*ron_PC\n",
    "mean_firing_rate_PC = (0.1)/1000\n",
    "duration_PC = 100000\n",
    "tau_IN = 50\n",
    "ron_IN = 1./(tau_IN*(1+factor_ron_roff))\n",
    "roff_IN = factor_ron_roff*ron_IN\n",
    "mean_firing_rate_IN = (0.5)/1000\n",
    "duration_IN = 20000\n",
    "sampling_rate = 5\n",
    "dt = 1/sampling_rate\n",
    "qon_qoff_type = 'balanced'\n",
    "Er_exc, Er_inh = (0, -75)\n",
    "target_PC = 1.4233\n",
    "target_IN = 6.6397\n",
    "on_off_ratio = 1.5\n",
    "scale_list = np.append([1], np.arange(2.5, 302.5, 2.5))\n",
    "scales = {'CC_PC':19, 'DC_PC':30, 'CC_IN':17, 'DC_IN':6}\n",
    "N_runs = 1\n",
    "defaultclock.dt = dt*ms\n",
    "\n",
    "\n",
    "PC_i = 35\n",
    "IN_i = 11"
   ]
  },
  {
   "cell_type": "code",
   "execution_count": 23,
   "metadata": {
    "pycharm": {
     "name": "#%%\n"
    }
   },
   "outputs": [],
   "source": [
    "#Getting the input\n",
    "[input_theory, dynamic_theory, hidden_state] = make_dynamic_experiments(qon_qoff_type, baseline, tau_PC, factor_ron_roff, mean_firing_rate_PC, sampling_rate, duration_PC)\n",
    "inj_input = scale_input_theory(input_theory, 'current', 0, scales['CC_IN'], dt)"
   ]
  },
  {
   "cell_type": "code",
   "execution_count": 24,
   "metadata": {},
   "outputs": [
    {
     "ename": "BrianObjectException",
     "evalue": "Original error and traceback:\nTraceback (most recent call last):\n  File \"C:\\ProgramData\\Anaconda3\\envs\\stage\\lib\\site-packages\\brian2\\core\\network.py\", line 901, in before_run\n    obj.before_run(run_namespace)\n  File \"C:\\ProgramData\\Anaconda3\\envs\\stage\\lib\\site-packages\\brian2\\groups\\neurongroup.py\", line 888, in before_run\n    self.equations.check_units(self, run_namespace=run_namespace)\n  File \"C:\\ProgramData\\Anaconda3\\envs\\stage\\lib\\site-packages\\brian2\\equations\\equations.py\", line 949, in check_units\n    resolved_namespace = group.resolve_all(external, run_namespace,\n  File \"C:\\ProgramData\\Anaconda3\\envs\\stage\\lib\\site-packages\\brian2\\groups\\group.py\", line 741, in resolve_all\n    resolved[identifier] = self._resolve(identifier,\n  File \"C:\\ProgramData\\Anaconda3\\envs\\stage\\lib\\site-packages\\brian2\\groups\\group.py\", line 701, in _resolve\n    return self._resolve_external(identifier, run_namespace=run_namespace)\n  File \"C:\\ProgramData\\Anaconda3\\envs\\stage\\lib\\site-packages\\brian2\\groups\\group.py\", line 825, in _resolve_external\n    raise KeyError(error_msg)\nKeyError: 'The identifier \"iENa\" could not be resolved.'\n\nError encountered with object named \"neurongroup_13\".\nObject was created here (most recent call only, full details in debug log):\n  File \"C:\\Users\\laure\\OneDrive\\Documenten\\Organisatie\\Stage\\NeuralNetworks\\models\\currentmodel.py\", line 162, in make_model\n    \n\nAn error occurred when preparing an object. KeyError: 'The identifier \"iENa\" could not be resolved.'\n(See above for original error message and traceback.)",
     "output_type": "error",
     "traceback": [
      "\u001b[1;31m---------------------------------------------------------------------------\u001b[0m",
      "\u001b[1;31mKeyError\u001b[0m                                  Traceback (most recent call last)",
      "File \u001b[1;32mC:\\ProgramData\\Anaconda3\\envs\\stage\\lib\\site-packages\\brian2\\core\\network.py:901\u001b[0m, in \u001b[0;36mNetwork.before_run\u001b[1;34m(self, run_namespace)\u001b[0m\n\u001b[0;32m    900\u001b[0m \u001b[38;5;28;01mtry\u001b[39;00m:\n\u001b[1;32m--> 901\u001b[0m     \u001b[43mobj\u001b[49m\u001b[38;5;241;43m.\u001b[39;49m\u001b[43mbefore_run\u001b[49m\u001b[43m(\u001b[49m\u001b[43mrun_namespace\u001b[49m\u001b[43m)\u001b[49m\n\u001b[0;32m    902\u001b[0m \u001b[38;5;28;01mexcept\u001b[39;00m \u001b[38;5;167;01mException\u001b[39;00m \u001b[38;5;28;01mas\u001b[39;00m ex:\n",
      "File \u001b[1;32mC:\\ProgramData\\Anaconda3\\envs\\stage\\lib\\site-packages\\brian2\\groups\\neurongroup.py:888\u001b[0m, in \u001b[0;36mNeuronGroup.before_run\u001b[1;34m(self, run_namespace)\u001b[0m\n\u001b[0;32m    886\u001b[0m \u001b[38;5;28;01mdef\u001b[39;00m \u001b[38;5;21mbefore_run\u001b[39m(\u001b[38;5;28mself\u001b[39m, run_namespace\u001b[38;5;241m=\u001b[39m\u001b[38;5;28;01mNone\u001b[39;00m):\n\u001b[0;32m    887\u001b[0m     \u001b[38;5;66;03m# Check units\u001b[39;00m\n\u001b[1;32m--> 888\u001b[0m     \u001b[38;5;28;43mself\u001b[39;49m\u001b[38;5;241;43m.\u001b[39;49m\u001b[43mequations\u001b[49m\u001b[38;5;241;43m.\u001b[39;49m\u001b[43mcheck_units\u001b[49m\u001b[43m(\u001b[49m\u001b[38;5;28;43mself\u001b[39;49m\u001b[43m,\u001b[49m\u001b[43m \u001b[49m\u001b[43mrun_namespace\u001b[49m\u001b[38;5;241;43m=\u001b[39;49m\u001b[43mrun_namespace\u001b[49m\u001b[43m)\u001b[49m\n\u001b[0;32m    889\u001b[0m     \u001b[38;5;66;03m# Check that subexpressions that refer to stateful functions are labeled\u001b[39;00m\n\u001b[0;32m    890\u001b[0m     \u001b[38;5;66;03m# as \"constant over dt\"\u001b[39;00m\n",
      "File \u001b[1;32mC:\\ProgramData\\Anaconda3\\envs\\stage\\lib\\site-packages\\brian2\\equations\\equations.py:949\u001b[0m, in \u001b[0;36mEquations.check_units\u001b[1;34m(self, group, run_namespace)\u001b[0m\n\u001b[0;32m    947\u001b[0m external \u001b[38;5;241m-\u001b[39m\u001b[38;5;241m=\u001b[39m \u001b[38;5;28mset\u001b[39m(all_variables\u001b[38;5;241m.\u001b[39mkeys())\n\u001b[1;32m--> 949\u001b[0m resolved_namespace \u001b[38;5;241m=\u001b[39m \u001b[43mgroup\u001b[49m\u001b[38;5;241;43m.\u001b[39;49m\u001b[43mresolve_all\u001b[49m\u001b[43m(\u001b[49m\u001b[43mexternal\u001b[49m\u001b[43m,\u001b[49m\u001b[43m \u001b[49m\u001b[43mrun_namespace\u001b[49m\u001b[43m,\u001b[49m\n\u001b[0;32m    950\u001b[0m \u001b[43m                                       \u001b[49m\u001b[43muser_identifiers\u001b[49m\u001b[38;5;241;43m=\u001b[39;49m\u001b[43mexternal\u001b[49m\u001b[43m)\u001b[49m  \u001b[38;5;66;03m# all variables are user defined\u001b[39;00m\n\u001b[0;32m    952\u001b[0m all_variables\u001b[38;5;241m.\u001b[39mupdate(resolved_namespace)\n",
      "File \u001b[1;32mC:\\ProgramData\\Anaconda3\\envs\\stage\\lib\\site-packages\\brian2\\groups\\group.py:741\u001b[0m, in \u001b[0;36mGroup.resolve_all\u001b[1;34m(self, identifiers, run_namespace, user_identifiers, additional_variables)\u001b[0m\n\u001b[0;32m    740\u001b[0m \u001b[38;5;28;01mfor\u001b[39;00m identifier \u001b[38;5;129;01min\u001b[39;00m identifiers:\n\u001b[1;32m--> 741\u001b[0m     resolved[identifier] \u001b[38;5;241m=\u001b[39m \u001b[38;5;28;43mself\u001b[39;49m\u001b[38;5;241;43m.\u001b[39;49m\u001b[43m_resolve\u001b[49m\u001b[43m(\u001b[49m\u001b[43midentifier\u001b[49m\u001b[43m,\u001b[49m\n\u001b[0;32m    742\u001b[0m \u001b[43m                                         \u001b[49m\u001b[43muser_identifier\u001b[49m\u001b[38;5;241;43m=\u001b[39;49m\u001b[43midentifier\u001b[49m\u001b[43m \u001b[49m\u001b[38;5;129;43;01min\u001b[39;49;00m\u001b[43m \u001b[49m\u001b[43muser_identifiers\u001b[49m\u001b[43m,\u001b[49m\n\u001b[0;32m    743\u001b[0m \u001b[43m                                         \u001b[49m\u001b[43madditional_variables\u001b[49m\u001b[38;5;241;43m=\u001b[39;49m\u001b[43madditional_variables\u001b[49m\u001b[43m,\u001b[49m\n\u001b[0;32m    744\u001b[0m \u001b[43m                                         \u001b[49m\u001b[43mrun_namespace\u001b[49m\u001b[38;5;241;43m=\u001b[39;49m\u001b[43mrun_namespace\u001b[49m\u001b[43m)\u001b[49m\n\u001b[0;32m    745\u001b[0m \u001b[38;5;28;01mreturn\u001b[39;00m resolved\n",
      "File \u001b[1;32mC:\\ProgramData\\Anaconda3\\envs\\stage\\lib\\site-packages\\brian2\\groups\\group.py:701\u001b[0m, in \u001b[0;36mGroup._resolve\u001b[1;34m(self, identifier, run_namespace, user_identifier, additional_variables)\u001b[0m\n\u001b[0;32m    699\u001b[0m \u001b[38;5;66;03m# We did not find the name internally, try to resolve it in the external\u001b[39;00m\n\u001b[0;32m    700\u001b[0m \u001b[38;5;66;03m# namespace\u001b[39;00m\n\u001b[1;32m--> 701\u001b[0m \u001b[38;5;28;01mreturn\u001b[39;00m \u001b[38;5;28;43mself\u001b[39;49m\u001b[38;5;241;43m.\u001b[39;49m\u001b[43m_resolve_external\u001b[49m\u001b[43m(\u001b[49m\u001b[43midentifier\u001b[49m\u001b[43m,\u001b[49m\u001b[43m \u001b[49m\u001b[43mrun_namespace\u001b[49m\u001b[38;5;241;43m=\u001b[39;49m\u001b[43mrun_namespace\u001b[49m\u001b[43m)\u001b[49m\n",
      "File \u001b[1;32mC:\\ProgramData\\Anaconda3\\envs\\stage\\lib\\site-packages\\brian2\\groups\\group.py:825\u001b[0m, in \u001b[0;36mGroup._resolve_external\u001b[1;34m(self, identifier, run_namespace, user_identifier, internal_variable)\u001b[0m\n\u001b[0;32m    823\u001b[0m             error_msg \u001b[38;5;241m=\u001b[39m (\u001b[38;5;124m'\u001b[39m\u001b[38;5;124mThe identifier \u001b[39m\u001b[38;5;124m\"\u001b[39m\u001b[38;5;132;01m%s\u001b[39;00m\u001b[38;5;124m\"\u001b[39m\u001b[38;5;124m could not be resolved.\u001b[39m\u001b[38;5;124m'\u001b[39m \u001b[38;5;241m%\u001b[39m\n\u001b[0;32m    824\u001b[0m                          identifier)\n\u001b[1;32m--> 825\u001b[0m         \u001b[38;5;28;01mraise\u001b[39;00m \u001b[38;5;167;01mKeyError\u001b[39;00m(error_msg)\n\u001b[0;32m    827\u001b[0m \u001b[38;5;28;01melif\u001b[39;00m \u001b[38;5;28mlen\u001b[39m(matches) \u001b[38;5;241m>\u001b[39m \u001b[38;5;241m1\u001b[39m:\n\u001b[0;32m    828\u001b[0m     \u001b[38;5;66;03m# Possibly, all matches refer to the same object\u001b[39;00m\n",
      "\u001b[1;31mKeyError\u001b[0m: 'The identifier \"iENa\" could not be resolved.'",
      "\nDuring handling of the above exception, another exception occurred:\n",
      "\u001b[1;31mBrianObjectException\u001b[0m                      Traceback (most recent call last)",
      "Input \u001b[1;32mIn [24]\u001b[0m, in \u001b[0;36m<cell line: 15>\u001b[1;34m()\u001b[0m\n\u001b[0;32m     12\u001b[0m PC_M \u001b[38;5;241m=\u001b[39m StateMonitor(PC, \u001b[38;5;124m'\u001b[39m\u001b[38;5;124mv\u001b[39m\u001b[38;5;124m'\u001b[39m, record\u001b[38;5;241m=\u001b[39m\u001b[38;5;28;01mTrue\u001b[39;00m)\n\u001b[0;32m     13\u001b[0m PC_S \u001b[38;5;241m=\u001b[39m SpikeMonitor(PC, record\u001b[38;5;241m=\u001b[39m\u001b[38;5;28;01mTrue\u001b[39;00m)\n\u001b[1;32m---> 15\u001b[0m \u001b[43mrun\u001b[49m\u001b[43m(\u001b[49m\u001b[38;5;241;43m20\u001b[39;49m\u001b[38;5;241;43m*\u001b[39;49m\u001b[43mms\u001b[49m\u001b[43m)\u001b[49m\n",
      "File \u001b[1;32mC:\\ProgramData\\Anaconda3\\envs\\stage\\lib\\site-packages\\brian2\\units\\fundamentalunits.py:2392\u001b[0m, in \u001b[0;36mcheck_units.<locals>.do_check_units.<locals>.new_f\u001b[1;34m(*args, **kwds)\u001b[0m\n\u001b[0;32m   2383\u001b[0m             error_message \u001b[38;5;241m=\u001b[39m (\u001b[38;5;124m'\u001b[39m\u001b[38;5;124mFunction \u001b[39m\u001b[38;5;124m\"\u001b[39m\u001b[38;5;132;01m{f.__name__}\u001b[39;00m\u001b[38;5;124m\"\u001b[39m\u001b[38;5;124m \u001b[39m\u001b[38;5;124m'\u001b[39m\n\u001b[0;32m   2384\u001b[0m                              \u001b[38;5;124m'\u001b[39m\u001b[38;5;124mexpected a quantitity with unit \u001b[39m\u001b[38;5;124m'\u001b[39m\n\u001b[0;32m   2385\u001b[0m                              \u001b[38;5;124m'\u001b[39m\u001b[38;5;132;01m{unit}\u001b[39;00m\u001b[38;5;124m for argument \u001b[39m\u001b[38;5;124m\"\u001b[39m\u001b[38;5;132;01m{k}\u001b[39;00m\u001b[38;5;124m\"\u001b[39m\u001b[38;5;124m but got \u001b[39m\u001b[38;5;124m'\u001b[39m\n\u001b[0;32m   2386\u001b[0m                              \u001b[38;5;124m'\u001b[39m\u001b[38;5;132;01m{value}\u001b[39;00m\u001b[38;5;124m'\u001b[39m)\u001b[38;5;241m.\u001b[39mformat(f\u001b[38;5;241m=\u001b[39mf, k\u001b[38;5;241m=\u001b[39mk,\n\u001b[0;32m   2387\u001b[0m                                                unit\u001b[38;5;241m=\u001b[39m\u001b[38;5;28mrepr\u001b[39m(au[k]),\n\u001b[0;32m   2388\u001b[0m                                                value\u001b[38;5;241m=\u001b[39mnewkeyset[k])\n\u001b[0;32m   2389\u001b[0m             \u001b[38;5;28;01mraise\u001b[39;00m DimensionMismatchError(error_message,\n\u001b[0;32m   2390\u001b[0m                                          get_dimensions(newkeyset[k]))\n\u001b[1;32m-> 2392\u001b[0m result \u001b[38;5;241m=\u001b[39m \u001b[43mf\u001b[49m\u001b[43m(\u001b[49m\u001b[38;5;241;43m*\u001b[39;49m\u001b[43margs\u001b[49m\u001b[43m,\u001b[49m\u001b[43m \u001b[49m\u001b[38;5;241;43m*\u001b[39;49m\u001b[38;5;241;43m*\u001b[39;49m\u001b[43mkwds\u001b[49m\u001b[43m)\u001b[49m\n\u001b[0;32m   2393\u001b[0m \u001b[38;5;28;01mif\u001b[39;00m \u001b[38;5;124m'\u001b[39m\u001b[38;5;124mresult\u001b[39m\u001b[38;5;124m'\u001b[39m \u001b[38;5;129;01min\u001b[39;00m au:\n\u001b[0;32m   2394\u001b[0m     \u001b[38;5;28;01mif\u001b[39;00m au[\u001b[38;5;124m'\u001b[39m\u001b[38;5;124mresult\u001b[39m\u001b[38;5;124m'\u001b[39m] \u001b[38;5;241m==\u001b[39m \u001b[38;5;28mbool\u001b[39m:\n",
      "File \u001b[1;32mC:\\ProgramData\\Anaconda3\\envs\\stage\\lib\\site-packages\\brian2\\core\\magic.py:373\u001b[0m, in \u001b[0;36mrun\u001b[1;34m(duration, report, report_period, namespace, profile, level)\u001b[0m\n\u001b[0;32m    311\u001b[0m \u001b[38;5;129m@check_units\u001b[39m(duration\u001b[38;5;241m=\u001b[39msecond, report_period\u001b[38;5;241m=\u001b[39msecond)\n\u001b[0;32m    312\u001b[0m \u001b[38;5;28;01mdef\u001b[39;00m \u001b[38;5;21mrun\u001b[39m(duration, report\u001b[38;5;241m=\u001b[39m\u001b[38;5;28;01mNone\u001b[39;00m, report_period\u001b[38;5;241m=\u001b[39m\u001b[38;5;241m10\u001b[39m\u001b[38;5;241m*\u001b[39msecond, namespace\u001b[38;5;241m=\u001b[39m\u001b[38;5;28;01mNone\u001b[39;00m,\n\u001b[0;32m    313\u001b[0m         profile\u001b[38;5;241m=\u001b[39m\u001b[38;5;28;01mFalse\u001b[39;00m, level\u001b[38;5;241m=\u001b[39m\u001b[38;5;241m0\u001b[39m):\n\u001b[0;32m    314\u001b[0m     \u001b[38;5;124;03m'''\u001b[39;00m\n\u001b[0;32m    315\u001b[0m \u001b[38;5;124;03m    run(duration, report=None, report_period=10*second, namespace=None, level=0)\u001b[39;00m\n\u001b[0;32m    316\u001b[0m \u001b[38;5;124;03m    \u001b[39;00m\n\u001b[1;32m   (...)\u001b[0m\n\u001b[0;32m    371\u001b[0m \u001b[38;5;124;03m        intended use. See `MagicNetwork` for more details.\u001b[39;00m\n\u001b[0;32m    372\u001b[0m \u001b[38;5;124;03m    '''\u001b[39;00m\n\u001b[1;32m--> 373\u001b[0m     \u001b[38;5;28;01mreturn\u001b[39;00m \u001b[43mmagic_network\u001b[49m\u001b[38;5;241;43m.\u001b[39;49m\u001b[43mrun\u001b[49m\u001b[43m(\u001b[49m\u001b[43mduration\u001b[49m\u001b[43m,\u001b[49m\u001b[43m \u001b[49m\u001b[43mreport\u001b[49m\u001b[38;5;241;43m=\u001b[39;49m\u001b[43mreport\u001b[49m\u001b[43m,\u001b[49m\u001b[43m \u001b[49m\u001b[43mreport_period\u001b[49m\u001b[38;5;241;43m=\u001b[39;49m\u001b[43mreport_period\u001b[49m\u001b[43m,\u001b[49m\n\u001b[0;32m    374\u001b[0m \u001b[43m                             \u001b[49m\u001b[43mnamespace\u001b[49m\u001b[38;5;241;43m=\u001b[39;49m\u001b[43mnamespace\u001b[49m\u001b[43m,\u001b[49m\u001b[43m \u001b[49m\u001b[43mprofile\u001b[49m\u001b[38;5;241;43m=\u001b[39;49m\u001b[43mprofile\u001b[49m\u001b[43m,\u001b[49m\u001b[43m \u001b[49m\u001b[43mlevel\u001b[49m\u001b[38;5;241;43m=\u001b[39;49m\u001b[38;5;241;43m2\u001b[39;49m\u001b[38;5;241;43m+\u001b[39;49m\u001b[43mlevel\u001b[49m\u001b[43m)\u001b[49m\n",
      "File \u001b[1;32mC:\\ProgramData\\Anaconda3\\envs\\stage\\lib\\site-packages\\brian2\\core\\magic.py:231\u001b[0m, in \u001b[0;36mMagicNetwork.run\u001b[1;34m(self, duration, report, report_period, namespace, profile, level)\u001b[0m\n\u001b[0;32m    228\u001b[0m \u001b[38;5;28;01mdef\u001b[39;00m \u001b[38;5;21mrun\u001b[39m(\u001b[38;5;28mself\u001b[39m, duration, report\u001b[38;5;241m=\u001b[39m\u001b[38;5;28;01mNone\u001b[39;00m, report_period\u001b[38;5;241m=\u001b[39m\u001b[38;5;241m10\u001b[39m\u001b[38;5;241m*\u001b[39msecond,\n\u001b[0;32m    229\u001b[0m         namespace\u001b[38;5;241m=\u001b[39m\u001b[38;5;28;01mNone\u001b[39;00m, profile\u001b[38;5;241m=\u001b[39m\u001b[38;5;28;01mFalse\u001b[39;00m, level\u001b[38;5;241m=\u001b[39m\u001b[38;5;241m0\u001b[39m):\n\u001b[0;32m    230\u001b[0m     \u001b[38;5;28mself\u001b[39m\u001b[38;5;241m.\u001b[39m_update_magic_objects(level\u001b[38;5;241m=\u001b[39mlevel\u001b[38;5;241m+\u001b[39m\u001b[38;5;241m1\u001b[39m)\n\u001b[1;32m--> 231\u001b[0m     \u001b[43mNetwork\u001b[49m\u001b[38;5;241;43m.\u001b[39;49m\u001b[43mrun\u001b[49m\u001b[43m(\u001b[49m\u001b[38;5;28;43mself\u001b[39;49m\u001b[43m,\u001b[49m\u001b[43m \u001b[49m\u001b[43mduration\u001b[49m\u001b[43m,\u001b[49m\u001b[43m \u001b[49m\u001b[43mreport\u001b[49m\u001b[38;5;241;43m=\u001b[39;49m\u001b[43mreport\u001b[49m\u001b[43m,\u001b[49m\u001b[43m \u001b[49m\u001b[43mreport_period\u001b[49m\u001b[38;5;241;43m=\u001b[39;49m\u001b[43mreport_period\u001b[49m\u001b[43m,\u001b[49m\n\u001b[0;32m    232\u001b[0m \u001b[43m                \u001b[49m\u001b[43mnamespace\u001b[49m\u001b[38;5;241;43m=\u001b[39;49m\u001b[43mnamespace\u001b[49m\u001b[43m,\u001b[49m\u001b[43m \u001b[49m\u001b[43mprofile\u001b[49m\u001b[38;5;241;43m=\u001b[39;49m\u001b[43mprofile\u001b[49m\u001b[43m,\u001b[49m\u001b[43m \u001b[49m\u001b[43mlevel\u001b[49m\u001b[38;5;241;43m=\u001b[39;49m\u001b[43mlevel\u001b[49m\u001b[38;5;241;43m+\u001b[39;49m\u001b[38;5;241;43m1\u001b[39;49m\u001b[43m)\u001b[49m\n",
      "File \u001b[1;32mC:\\ProgramData\\Anaconda3\\envs\\stage\\lib\\site-packages\\brian2\\core\\base.py:280\u001b[0m, in \u001b[0;36mdevice_override.<locals>.device_override_decorator.<locals>.device_override_decorated_function\u001b[1;34m(*args, **kwds)\u001b[0m\n\u001b[0;32m    278\u001b[0m     \u001b[38;5;28;01mreturn\u001b[39;00m \u001b[38;5;28mgetattr\u001b[39m(curdev, name)(\u001b[38;5;241m*\u001b[39margs, \u001b[38;5;241m*\u001b[39m\u001b[38;5;241m*\u001b[39mkwds)\n\u001b[0;32m    279\u001b[0m \u001b[38;5;28;01melse\u001b[39;00m:\n\u001b[1;32m--> 280\u001b[0m     \u001b[38;5;28;01mreturn\u001b[39;00m \u001b[43mfunc\u001b[49m\u001b[43m(\u001b[49m\u001b[38;5;241;43m*\u001b[39;49m\u001b[43margs\u001b[49m\u001b[43m,\u001b[49m\u001b[43m \u001b[49m\u001b[38;5;241;43m*\u001b[39;49m\u001b[38;5;241;43m*\u001b[39;49m\u001b[43mkwds\u001b[49m\u001b[43m)\u001b[49m\n",
      "File \u001b[1;32mC:\\ProgramData\\Anaconda3\\envs\\stage\\lib\\site-packages\\brian2\\units\\fundamentalunits.py:2392\u001b[0m, in \u001b[0;36mcheck_units.<locals>.do_check_units.<locals>.new_f\u001b[1;34m(*args, **kwds)\u001b[0m\n\u001b[0;32m   2383\u001b[0m             error_message \u001b[38;5;241m=\u001b[39m (\u001b[38;5;124m'\u001b[39m\u001b[38;5;124mFunction \u001b[39m\u001b[38;5;124m\"\u001b[39m\u001b[38;5;132;01m{f.__name__}\u001b[39;00m\u001b[38;5;124m\"\u001b[39m\u001b[38;5;124m \u001b[39m\u001b[38;5;124m'\u001b[39m\n\u001b[0;32m   2384\u001b[0m                              \u001b[38;5;124m'\u001b[39m\u001b[38;5;124mexpected a quantitity with unit \u001b[39m\u001b[38;5;124m'\u001b[39m\n\u001b[0;32m   2385\u001b[0m                              \u001b[38;5;124m'\u001b[39m\u001b[38;5;132;01m{unit}\u001b[39;00m\u001b[38;5;124m for argument \u001b[39m\u001b[38;5;124m\"\u001b[39m\u001b[38;5;132;01m{k}\u001b[39;00m\u001b[38;5;124m\"\u001b[39m\u001b[38;5;124m but got \u001b[39m\u001b[38;5;124m'\u001b[39m\n\u001b[0;32m   2386\u001b[0m                              \u001b[38;5;124m'\u001b[39m\u001b[38;5;132;01m{value}\u001b[39;00m\u001b[38;5;124m'\u001b[39m)\u001b[38;5;241m.\u001b[39mformat(f\u001b[38;5;241m=\u001b[39mf, k\u001b[38;5;241m=\u001b[39mk,\n\u001b[0;32m   2387\u001b[0m                                                unit\u001b[38;5;241m=\u001b[39m\u001b[38;5;28mrepr\u001b[39m(au[k]),\n\u001b[0;32m   2388\u001b[0m                                                value\u001b[38;5;241m=\u001b[39mnewkeyset[k])\n\u001b[0;32m   2389\u001b[0m             \u001b[38;5;28;01mraise\u001b[39;00m DimensionMismatchError(error_message,\n\u001b[0;32m   2390\u001b[0m                                          get_dimensions(newkeyset[k]))\n\u001b[1;32m-> 2392\u001b[0m result \u001b[38;5;241m=\u001b[39m \u001b[43mf\u001b[49m\u001b[43m(\u001b[49m\u001b[38;5;241;43m*\u001b[39;49m\u001b[43margs\u001b[49m\u001b[43m,\u001b[49m\u001b[43m \u001b[49m\u001b[38;5;241;43m*\u001b[39;49m\u001b[38;5;241;43m*\u001b[39;49m\u001b[43mkwds\u001b[49m\u001b[43m)\u001b[49m\n\u001b[0;32m   2393\u001b[0m \u001b[38;5;28;01mif\u001b[39;00m \u001b[38;5;124m'\u001b[39m\u001b[38;5;124mresult\u001b[39m\u001b[38;5;124m'\u001b[39m \u001b[38;5;129;01min\u001b[39;00m au:\n\u001b[0;32m   2394\u001b[0m     \u001b[38;5;28;01mif\u001b[39;00m au[\u001b[38;5;124m'\u001b[39m\u001b[38;5;124mresult\u001b[39m\u001b[38;5;124m'\u001b[39m] \u001b[38;5;241m==\u001b[39m \u001b[38;5;28mbool\u001b[39m:\n",
      "File \u001b[1;32mC:\\ProgramData\\Anaconda3\\envs\\stage\\lib\\site-packages\\brian2\\core\\network.py:1012\u001b[0m, in \u001b[0;36mNetwork.run\u001b[1;34m(self, duration, report, report_period, namespace, profile, level)\u001b[0m\n\u001b[0;32m   1009\u001b[0m \u001b[38;5;28;01mif\u001b[39;00m namespace \u001b[38;5;129;01mis\u001b[39;00m \u001b[38;5;28;01mNone\u001b[39;00m:\n\u001b[0;32m   1010\u001b[0m     namespace \u001b[38;5;241m=\u001b[39m get_local_namespace(level\u001b[38;5;241m=\u001b[39mlevel\u001b[38;5;241m+\u001b[39m\u001b[38;5;241m3\u001b[39m)\n\u001b[1;32m-> 1012\u001b[0m \u001b[38;5;28;43mself\u001b[39;49m\u001b[38;5;241;43m.\u001b[39;49m\u001b[43mbefore_run\u001b[49m\u001b[43m(\u001b[49m\u001b[43mnamespace\u001b[49m\u001b[43m)\u001b[49m\n\u001b[0;32m   1014\u001b[0m \u001b[38;5;28;01mif\u001b[39;00m \u001b[38;5;28mlen\u001b[39m(all_objects) \u001b[38;5;241m==\u001b[39m \u001b[38;5;241m0\u001b[39m:\n\u001b[0;32m   1015\u001b[0m     \u001b[38;5;28;01mreturn\u001b[39;00m  \u001b[38;5;66;03m# TODO: raise an error? warning?\u001b[39;00m\n",
      "File \u001b[1;32mC:\\ProgramData\\Anaconda3\\envs\\stage\\lib\\site-packages\\brian2\\core\\base.py:280\u001b[0m, in \u001b[0;36mdevice_override.<locals>.device_override_decorator.<locals>.device_override_decorated_function\u001b[1;34m(*args, **kwds)\u001b[0m\n\u001b[0;32m    278\u001b[0m     \u001b[38;5;28;01mreturn\u001b[39;00m \u001b[38;5;28mgetattr\u001b[39m(curdev, name)(\u001b[38;5;241m*\u001b[39margs, \u001b[38;5;241m*\u001b[39m\u001b[38;5;241m*\u001b[39mkwds)\n\u001b[0;32m    279\u001b[0m \u001b[38;5;28;01melse\u001b[39;00m:\n\u001b[1;32m--> 280\u001b[0m     \u001b[38;5;28;01mreturn\u001b[39;00m \u001b[43mfunc\u001b[49m\u001b[43m(\u001b[49m\u001b[38;5;241;43m*\u001b[39;49m\u001b[43margs\u001b[49m\u001b[43m,\u001b[49m\u001b[43m \u001b[49m\u001b[38;5;241;43m*\u001b[39;49m\u001b[38;5;241;43m*\u001b[39;49m\u001b[43mkwds\u001b[49m\u001b[43m)\u001b[49m\n",
      "File \u001b[1;32mC:\\ProgramData\\Anaconda3\\envs\\stage\\lib\\site-packages\\brian2\\core\\network.py:903\u001b[0m, in \u001b[0;36mNetwork.before_run\u001b[1;34m(self, run_namespace)\u001b[0m\n\u001b[0;32m    901\u001b[0m             obj\u001b[38;5;241m.\u001b[39mbefore_run(run_namespace)\n\u001b[0;32m    902\u001b[0m         \u001b[38;5;28;01mexcept\u001b[39;00m \u001b[38;5;167;01mException\u001b[39;00m \u001b[38;5;28;01mas\u001b[39;00m ex:\n\u001b[1;32m--> 903\u001b[0m             \u001b[38;5;28;01mraise\u001b[39;00m brian_object_exception(\u001b[38;5;124m\"\u001b[39m\u001b[38;5;124mAn error occurred when preparing an object.\u001b[39m\u001b[38;5;124m\"\u001b[39m, obj, ex)\n\u001b[0;32m    905\u001b[0m \u001b[38;5;66;03m# Check that no object has been run as part of another network before\u001b[39;00m\n\u001b[0;32m    906\u001b[0m \u001b[38;5;28;01mfor\u001b[39;00m obj \u001b[38;5;129;01min\u001b[39;00m all_objects:\n",
      "\u001b[1;31mBrianObjectException\u001b[0m: Original error and traceback:\nTraceback (most recent call last):\n  File \"C:\\ProgramData\\Anaconda3\\envs\\stage\\lib\\site-packages\\brian2\\core\\network.py\", line 901, in before_run\n    obj.before_run(run_namespace)\n  File \"C:\\ProgramData\\Anaconda3\\envs\\stage\\lib\\site-packages\\brian2\\groups\\neurongroup.py\", line 888, in before_run\n    self.equations.check_units(self, run_namespace=run_namespace)\n  File \"C:\\ProgramData\\Anaconda3\\envs\\stage\\lib\\site-packages\\brian2\\equations\\equations.py\", line 949, in check_units\n    resolved_namespace = group.resolve_all(external, run_namespace,\n  File \"C:\\ProgramData\\Anaconda3\\envs\\stage\\lib\\site-packages\\brian2\\groups\\group.py\", line 741, in resolve_all\n    resolved[identifier] = self._resolve(identifier,\n  File \"C:\\ProgramData\\Anaconda3\\envs\\stage\\lib\\site-packages\\brian2\\groups\\group.py\", line 701, in _resolve\n    return self._resolve_external(identifier, run_namespace=run_namespace)\n  File \"C:\\ProgramData\\Anaconda3\\envs\\stage\\lib\\site-packages\\brian2\\groups\\group.py\", line 825, in _resolve_external\n    raise KeyError(error_msg)\nKeyError: 'The identifier \"iENa\" could not be resolved.'\n\nError encountered with object named \"neurongroup_13\".\nObject was created here (most recent call only, full details in debug log):\n  File \"C:\\Users\\laure\\OneDrive\\Documenten\\Organisatie\\Stage\\NeuralNetworks\\models\\currentmodel.py\", line 162, in make_model\n    \n\nAn error occurred when preparing an object. KeyError: 'The identifier \"iENa\" could not be resolved.'\n(See above for original error message and traceback.)"
     ]
    }
   ],
   "source": [
    "start_scope()\n",
    "#creating the neuron\n",
    "current_PC = Barrel_PC(dt=dt)\n",
    "current_IN = Barrel_IN(dt=dt)\n",
    "#getting the neurongroups\n",
    "IN = current_IN.getNeurongroup()\n",
    "PC = current_PC.getNeurongroup()\n",
    "#tracking the values interneuron\n",
    "IN_M = StateMonitor(IN, 'v', record=True)\n",
    "IN_S = SpikeMonitor(IN, record=True)\n",
    "#tracking the values pyramidal neuron\n",
    "PC_M = StateMonitor(PC, 'v', record=True)\n",
    "PC_S = SpikeMonitor(PC, record=True)\n",
    "\n",
    "run(20*ms)"
   ]
  },
  {
   "cell_type": "code",
   "execution_count": 19,
   "metadata": {
    "pycharm": {
     "name": "#%%\n"
    }
   },
   "outputs": [],
   "source": [
    "#setting the parameters\n",
    "\n",
    "iparameters = np.loadtxt('models/parameters/IN_parameters.csv', delimiter=',')\n",
    "iNi = np.random.randint(np.shape(iparameters)[1])\n",
    "parameters = np.loadtxt('models/parameters/PC_parameters.csv', delimiter=',')\n",
    "\n",
    "Ni = np.random.randint(np.shape(parameters)[1])\n",
    "area = 20000 * umetre ** 2\n",
    "param = np.log(10)\n",
    "\n",
    "Cm = parameters[2][Ni] * farad / area * cm ** 2\n",
    "gL = parameters[0][Ni] * siemens / area * cm ** 2\n",
    "gNa = parameters[3][Ni] *siemens / area * cm ** 2\n",
    "gK = parameters[1][Ni] * siemens / area * cm ** 2\n",
    "EL = -65 * mV\n",
    "ENa = 50 * mV\n",
    "EK = -90 * mV\n",
    "Er_e = 0 * mV\n",
    "Er_i = -75 * mV\n",
    "k_m = parameters[4][Ni] * volt\n",
    "k_h = parameters[5][Ni] * volt\n",
    "Vh_h = parameters[6][Ni] * volt\n",
    "VT = -63 * mV\n",
    "\n",
    "\n",
    "iCm = parameters[2][Ni] * farad / area * cm ** 2\n",
    "igL = parameters[0][Ni] * siemens / area * cm ** 2\n",
    "igNa = parameters[3][Ni] *siemens / area * cm ** 2\n",
    "igK = parameters[1][Ni] * siemens / area * cm ** 2\n",
    "igK3 = parameters[5][Ni] * siemens / area * cm ** 2\n",
    "iEL  =  -65 * mV,\n",
    "iENa = 50 * mV,\n",
    "iEK = -90 * mV,\n",
    "Er_e = 0 * mV,\n",
    "Er_i =  -75 * mV,\n",
    "k = parameters[4][Ni] * volt"
   ]
  },
  {
   "cell_type": "code",
   "execution_count": 15,
   "metadata": {
    "pycharm": {
     "name": "#%%\n"
    }
   },
   "outputs": [
    {
     "ename": "BrianObjectException",
     "evalue": "Original error and traceback:\nTraceback (most recent call last):\n  File \"C:\\ProgramData\\Anaconda3\\envs\\stage\\lib\\site-packages\\brian2\\core\\network.py\", line 901, in before_run\n    obj.before_run(run_namespace)\n  File \"C:\\ProgramData\\Anaconda3\\envs\\stage\\lib\\site-packages\\brian2\\groups\\neurongroup.py\", line 888, in before_run\n    self.equations.check_units(self, run_namespace=run_namespace)\n  File \"C:\\ProgramData\\Anaconda3\\envs\\stage\\lib\\site-packages\\brian2\\equations\\equations.py\", line 949, in check_units\n    resolved_namespace = group.resolve_all(external, run_namespace,\n  File \"C:\\ProgramData\\Anaconda3\\envs\\stage\\lib\\site-packages\\brian2\\groups\\group.py\", line 741, in resolve_all\n    resolved[identifier] = self._resolve(identifier,\n  File \"C:\\ProgramData\\Anaconda3\\envs\\stage\\lib\\site-packages\\brian2\\groups\\group.py\", line 701, in _resolve\n    return self._resolve_external(identifier, run_namespace=run_namespace)\n  File \"C:\\ProgramData\\Anaconda3\\envs\\stage\\lib\\site-packages\\brian2\\groups\\group.py\", line 825, in _resolve_external\n    raise KeyError(error_msg)\nKeyError: 'The identifier \"iENa\" could not be resolved.'\n\nError encountered with object named \"neurongroup_9\".\nObject was created here (most recent call only, full details in debug log):\n  File \"C:\\Users\\laure\\OneDrive\\Documenten\\Organisatie\\Stage\\NeuralNetworks\\models\\currentmodel.py\", line 162, in make_model\n    neuron = b2.NeuronGroup(1, model=eqs + eqs_input, method='exponential_euler',\n\nAn error occurred when preparing an object. KeyError: 'The identifier \"iENa\" could not be resolved.'\n(See above for original error message and traceback.)",
     "output_type": "error",
     "traceback": [
      "\u001b[1;31m---------------------------------------------------------------------------\u001b[0m",
      "\u001b[1;31mKeyError\u001b[0m                                  Traceback (most recent call last)",
      "File \u001b[1;32mC:\\ProgramData\\Anaconda3\\envs\\stage\\lib\\site-packages\\brian2\\core\\network.py:901\u001b[0m, in \u001b[0;36mNetwork.before_run\u001b[1;34m(self, run_namespace)\u001b[0m\n\u001b[0;32m    900\u001b[0m \u001b[38;5;28;01mtry\u001b[39;00m:\n\u001b[1;32m--> 901\u001b[0m     \u001b[43mobj\u001b[49m\u001b[38;5;241;43m.\u001b[39;49m\u001b[43mbefore_run\u001b[49m\u001b[43m(\u001b[49m\u001b[43mrun_namespace\u001b[49m\u001b[43m)\u001b[49m\n\u001b[0;32m    902\u001b[0m \u001b[38;5;28;01mexcept\u001b[39;00m \u001b[38;5;167;01mException\u001b[39;00m \u001b[38;5;28;01mas\u001b[39;00m ex:\n",
      "File \u001b[1;32mC:\\ProgramData\\Anaconda3\\envs\\stage\\lib\\site-packages\\brian2\\groups\\neurongroup.py:888\u001b[0m, in \u001b[0;36mNeuronGroup.before_run\u001b[1;34m(self, run_namespace)\u001b[0m\n\u001b[0;32m    886\u001b[0m \u001b[38;5;28;01mdef\u001b[39;00m \u001b[38;5;21mbefore_run\u001b[39m(\u001b[38;5;28mself\u001b[39m, run_namespace\u001b[38;5;241m=\u001b[39m\u001b[38;5;28;01mNone\u001b[39;00m):\n\u001b[0;32m    887\u001b[0m     \u001b[38;5;66;03m# Check units\u001b[39;00m\n\u001b[1;32m--> 888\u001b[0m     \u001b[38;5;28;43mself\u001b[39;49m\u001b[38;5;241;43m.\u001b[39;49m\u001b[43mequations\u001b[49m\u001b[38;5;241;43m.\u001b[39;49m\u001b[43mcheck_units\u001b[49m\u001b[43m(\u001b[49m\u001b[38;5;28;43mself\u001b[39;49m\u001b[43m,\u001b[49m\u001b[43m \u001b[49m\u001b[43mrun_namespace\u001b[49m\u001b[38;5;241;43m=\u001b[39;49m\u001b[43mrun_namespace\u001b[49m\u001b[43m)\u001b[49m\n\u001b[0;32m    889\u001b[0m     \u001b[38;5;66;03m# Check that subexpressions that refer to stateful functions are labeled\u001b[39;00m\n\u001b[0;32m    890\u001b[0m     \u001b[38;5;66;03m# as \"constant over dt\"\u001b[39;00m\n",
      "File \u001b[1;32mC:\\ProgramData\\Anaconda3\\envs\\stage\\lib\\site-packages\\brian2\\equations\\equations.py:949\u001b[0m, in \u001b[0;36mEquations.check_units\u001b[1;34m(self, group, run_namespace)\u001b[0m\n\u001b[0;32m    947\u001b[0m external \u001b[38;5;241m-\u001b[39m\u001b[38;5;241m=\u001b[39m \u001b[38;5;28mset\u001b[39m(all_variables\u001b[38;5;241m.\u001b[39mkeys())\n\u001b[1;32m--> 949\u001b[0m resolved_namespace \u001b[38;5;241m=\u001b[39m \u001b[43mgroup\u001b[49m\u001b[38;5;241;43m.\u001b[39;49m\u001b[43mresolve_all\u001b[49m\u001b[43m(\u001b[49m\u001b[43mexternal\u001b[49m\u001b[43m,\u001b[49m\u001b[43m \u001b[49m\u001b[43mrun_namespace\u001b[49m\u001b[43m,\u001b[49m\n\u001b[0;32m    950\u001b[0m \u001b[43m                                       \u001b[49m\u001b[43muser_identifiers\u001b[49m\u001b[38;5;241;43m=\u001b[39;49m\u001b[43mexternal\u001b[49m\u001b[43m)\u001b[49m  \u001b[38;5;66;03m# all variables are user defined\u001b[39;00m\n\u001b[0;32m    952\u001b[0m all_variables\u001b[38;5;241m.\u001b[39mupdate(resolved_namespace)\n",
      "File \u001b[1;32mC:\\ProgramData\\Anaconda3\\envs\\stage\\lib\\site-packages\\brian2\\groups\\group.py:741\u001b[0m, in \u001b[0;36mGroup.resolve_all\u001b[1;34m(self, identifiers, run_namespace, user_identifiers, additional_variables)\u001b[0m\n\u001b[0;32m    740\u001b[0m \u001b[38;5;28;01mfor\u001b[39;00m identifier \u001b[38;5;129;01min\u001b[39;00m identifiers:\n\u001b[1;32m--> 741\u001b[0m     resolved[identifier] \u001b[38;5;241m=\u001b[39m \u001b[38;5;28;43mself\u001b[39;49m\u001b[38;5;241;43m.\u001b[39;49m\u001b[43m_resolve\u001b[49m\u001b[43m(\u001b[49m\u001b[43midentifier\u001b[49m\u001b[43m,\u001b[49m\n\u001b[0;32m    742\u001b[0m \u001b[43m                                         \u001b[49m\u001b[43muser_identifier\u001b[49m\u001b[38;5;241;43m=\u001b[39;49m\u001b[43midentifier\u001b[49m\u001b[43m \u001b[49m\u001b[38;5;129;43;01min\u001b[39;49;00m\u001b[43m \u001b[49m\u001b[43muser_identifiers\u001b[49m\u001b[43m,\u001b[49m\n\u001b[0;32m    743\u001b[0m \u001b[43m                                         \u001b[49m\u001b[43madditional_variables\u001b[49m\u001b[38;5;241;43m=\u001b[39;49m\u001b[43madditional_variables\u001b[49m\u001b[43m,\u001b[49m\n\u001b[0;32m    744\u001b[0m \u001b[43m                                         \u001b[49m\u001b[43mrun_namespace\u001b[49m\u001b[38;5;241;43m=\u001b[39;49m\u001b[43mrun_namespace\u001b[49m\u001b[43m)\u001b[49m\n\u001b[0;32m    745\u001b[0m \u001b[38;5;28;01mreturn\u001b[39;00m resolved\n",
      "File \u001b[1;32mC:\\ProgramData\\Anaconda3\\envs\\stage\\lib\\site-packages\\brian2\\groups\\group.py:701\u001b[0m, in \u001b[0;36mGroup._resolve\u001b[1;34m(self, identifier, run_namespace, user_identifier, additional_variables)\u001b[0m\n\u001b[0;32m    699\u001b[0m \u001b[38;5;66;03m# We did not find the name internally, try to resolve it in the external\u001b[39;00m\n\u001b[0;32m    700\u001b[0m \u001b[38;5;66;03m# namespace\u001b[39;00m\n\u001b[1;32m--> 701\u001b[0m \u001b[38;5;28;01mreturn\u001b[39;00m \u001b[38;5;28;43mself\u001b[39;49m\u001b[38;5;241;43m.\u001b[39;49m\u001b[43m_resolve_external\u001b[49m\u001b[43m(\u001b[49m\u001b[43midentifier\u001b[49m\u001b[43m,\u001b[49m\u001b[43m \u001b[49m\u001b[43mrun_namespace\u001b[49m\u001b[38;5;241;43m=\u001b[39;49m\u001b[43mrun_namespace\u001b[49m\u001b[43m)\u001b[49m\n",
      "File \u001b[1;32mC:\\ProgramData\\Anaconda3\\envs\\stage\\lib\\site-packages\\brian2\\groups\\group.py:825\u001b[0m, in \u001b[0;36mGroup._resolve_external\u001b[1;34m(self, identifier, run_namespace, user_identifier, internal_variable)\u001b[0m\n\u001b[0;32m    823\u001b[0m             error_msg \u001b[38;5;241m=\u001b[39m (\u001b[38;5;124m'\u001b[39m\u001b[38;5;124mThe identifier \u001b[39m\u001b[38;5;124m\"\u001b[39m\u001b[38;5;132;01m%s\u001b[39;00m\u001b[38;5;124m\"\u001b[39m\u001b[38;5;124m could not be resolved.\u001b[39m\u001b[38;5;124m'\u001b[39m \u001b[38;5;241m%\u001b[39m\n\u001b[0;32m    824\u001b[0m                          identifier)\n\u001b[1;32m--> 825\u001b[0m         \u001b[38;5;28;01mraise\u001b[39;00m \u001b[38;5;167;01mKeyError\u001b[39;00m(error_msg)\n\u001b[0;32m    827\u001b[0m \u001b[38;5;28;01melif\u001b[39;00m \u001b[38;5;28mlen\u001b[39m(matches) \u001b[38;5;241m>\u001b[39m \u001b[38;5;241m1\u001b[39m:\n\u001b[0;32m    828\u001b[0m     \u001b[38;5;66;03m# Possibly, all matches refer to the same object\u001b[39;00m\n",
      "\u001b[1;31mKeyError\u001b[0m: 'The identifier \"iENa\" could not be resolved.'",
      "\nDuring handling of the above exception, another exception occurred:\n",
      "\u001b[1;31mBrianObjectException\u001b[0m                      Traceback (most recent call last)",
      "Input \u001b[1;32mIn [15]\u001b[0m, in \u001b[0;36m<cell line: 15>\u001b[1;34m()\u001b[0m\n\u001b[0;32m     12\u001b[0m PC_M \u001b[38;5;241m=\u001b[39m StateMonitor(PC, \u001b[38;5;124m'\u001b[39m\u001b[38;5;124mv\u001b[39m\u001b[38;5;124m'\u001b[39m, record\u001b[38;5;241m=\u001b[39m\u001b[38;5;28;01mTrue\u001b[39;00m)\n\u001b[0;32m     13\u001b[0m PC_S \u001b[38;5;241m=\u001b[39m SpikeMonitor(PC, record\u001b[38;5;241m=\u001b[39m\u001b[38;5;28;01mTrue\u001b[39;00m)\n\u001b[1;32m---> 15\u001b[0m \u001b[43mrun\u001b[49m\u001b[43m(\u001b[49m\u001b[38;5;241;43m20\u001b[39;49m\u001b[38;5;241;43m*\u001b[39;49m\u001b[43mms\u001b[49m\u001b[43m)\u001b[49m\n",
      "File \u001b[1;32mC:\\ProgramData\\Anaconda3\\envs\\stage\\lib\\site-packages\\brian2\\units\\fundamentalunits.py:2392\u001b[0m, in \u001b[0;36mcheck_units.<locals>.do_check_units.<locals>.new_f\u001b[1;34m(*args, **kwds)\u001b[0m\n\u001b[0;32m   2383\u001b[0m             error_message \u001b[38;5;241m=\u001b[39m (\u001b[38;5;124m'\u001b[39m\u001b[38;5;124mFunction \u001b[39m\u001b[38;5;124m\"\u001b[39m\u001b[38;5;132;01m{f.__name__}\u001b[39;00m\u001b[38;5;124m\"\u001b[39m\u001b[38;5;124m \u001b[39m\u001b[38;5;124m'\u001b[39m\n\u001b[0;32m   2384\u001b[0m                              \u001b[38;5;124m'\u001b[39m\u001b[38;5;124mexpected a quantitity with unit \u001b[39m\u001b[38;5;124m'\u001b[39m\n\u001b[0;32m   2385\u001b[0m                              \u001b[38;5;124m'\u001b[39m\u001b[38;5;132;01m{unit}\u001b[39;00m\u001b[38;5;124m for argument \u001b[39m\u001b[38;5;124m\"\u001b[39m\u001b[38;5;132;01m{k}\u001b[39;00m\u001b[38;5;124m\"\u001b[39m\u001b[38;5;124m but got \u001b[39m\u001b[38;5;124m'\u001b[39m\n\u001b[0;32m   2386\u001b[0m                              \u001b[38;5;124m'\u001b[39m\u001b[38;5;132;01m{value}\u001b[39;00m\u001b[38;5;124m'\u001b[39m)\u001b[38;5;241m.\u001b[39mformat(f\u001b[38;5;241m=\u001b[39mf, k\u001b[38;5;241m=\u001b[39mk,\n\u001b[0;32m   2387\u001b[0m                                                unit\u001b[38;5;241m=\u001b[39m\u001b[38;5;28mrepr\u001b[39m(au[k]),\n\u001b[0;32m   2388\u001b[0m                                                value\u001b[38;5;241m=\u001b[39mnewkeyset[k])\n\u001b[0;32m   2389\u001b[0m             \u001b[38;5;28;01mraise\u001b[39;00m DimensionMismatchError(error_message,\n\u001b[0;32m   2390\u001b[0m                                          get_dimensions(newkeyset[k]))\n\u001b[1;32m-> 2392\u001b[0m result \u001b[38;5;241m=\u001b[39m \u001b[43mf\u001b[49m\u001b[43m(\u001b[49m\u001b[38;5;241;43m*\u001b[39;49m\u001b[43margs\u001b[49m\u001b[43m,\u001b[49m\u001b[43m \u001b[49m\u001b[38;5;241;43m*\u001b[39;49m\u001b[38;5;241;43m*\u001b[39;49m\u001b[43mkwds\u001b[49m\u001b[43m)\u001b[49m\n\u001b[0;32m   2393\u001b[0m \u001b[38;5;28;01mif\u001b[39;00m \u001b[38;5;124m'\u001b[39m\u001b[38;5;124mresult\u001b[39m\u001b[38;5;124m'\u001b[39m \u001b[38;5;129;01min\u001b[39;00m au:\n\u001b[0;32m   2394\u001b[0m     \u001b[38;5;28;01mif\u001b[39;00m au[\u001b[38;5;124m'\u001b[39m\u001b[38;5;124mresult\u001b[39m\u001b[38;5;124m'\u001b[39m] \u001b[38;5;241m==\u001b[39m \u001b[38;5;28mbool\u001b[39m:\n",
      "File \u001b[1;32mC:\\ProgramData\\Anaconda3\\envs\\stage\\lib\\site-packages\\brian2\\core\\magic.py:373\u001b[0m, in \u001b[0;36mrun\u001b[1;34m(duration, report, report_period, namespace, profile, level)\u001b[0m\n\u001b[0;32m    311\u001b[0m \u001b[38;5;129m@check_units\u001b[39m(duration\u001b[38;5;241m=\u001b[39msecond, report_period\u001b[38;5;241m=\u001b[39msecond)\n\u001b[0;32m    312\u001b[0m \u001b[38;5;28;01mdef\u001b[39;00m \u001b[38;5;21mrun\u001b[39m(duration, report\u001b[38;5;241m=\u001b[39m\u001b[38;5;28;01mNone\u001b[39;00m, report_period\u001b[38;5;241m=\u001b[39m\u001b[38;5;241m10\u001b[39m\u001b[38;5;241m*\u001b[39msecond, namespace\u001b[38;5;241m=\u001b[39m\u001b[38;5;28;01mNone\u001b[39;00m,\n\u001b[0;32m    313\u001b[0m         profile\u001b[38;5;241m=\u001b[39m\u001b[38;5;28;01mFalse\u001b[39;00m, level\u001b[38;5;241m=\u001b[39m\u001b[38;5;241m0\u001b[39m):\n\u001b[0;32m    314\u001b[0m     \u001b[38;5;124;03m'''\u001b[39;00m\n\u001b[0;32m    315\u001b[0m \u001b[38;5;124;03m    run(duration, report=None, report_period=10*second, namespace=None, level=0)\u001b[39;00m\n\u001b[0;32m    316\u001b[0m \u001b[38;5;124;03m    \u001b[39;00m\n\u001b[1;32m   (...)\u001b[0m\n\u001b[0;32m    371\u001b[0m \u001b[38;5;124;03m        intended use. See `MagicNetwork` for more details.\u001b[39;00m\n\u001b[0;32m    372\u001b[0m \u001b[38;5;124;03m    '''\u001b[39;00m\n\u001b[1;32m--> 373\u001b[0m     \u001b[38;5;28;01mreturn\u001b[39;00m \u001b[43mmagic_network\u001b[49m\u001b[38;5;241;43m.\u001b[39;49m\u001b[43mrun\u001b[49m\u001b[43m(\u001b[49m\u001b[43mduration\u001b[49m\u001b[43m,\u001b[49m\u001b[43m \u001b[49m\u001b[43mreport\u001b[49m\u001b[38;5;241;43m=\u001b[39;49m\u001b[43mreport\u001b[49m\u001b[43m,\u001b[49m\u001b[43m \u001b[49m\u001b[43mreport_period\u001b[49m\u001b[38;5;241;43m=\u001b[39;49m\u001b[43mreport_period\u001b[49m\u001b[43m,\u001b[49m\n\u001b[0;32m    374\u001b[0m \u001b[43m                             \u001b[49m\u001b[43mnamespace\u001b[49m\u001b[38;5;241;43m=\u001b[39;49m\u001b[43mnamespace\u001b[49m\u001b[43m,\u001b[49m\u001b[43m \u001b[49m\u001b[43mprofile\u001b[49m\u001b[38;5;241;43m=\u001b[39;49m\u001b[43mprofile\u001b[49m\u001b[43m,\u001b[49m\u001b[43m \u001b[49m\u001b[43mlevel\u001b[49m\u001b[38;5;241;43m=\u001b[39;49m\u001b[38;5;241;43m2\u001b[39;49m\u001b[38;5;241;43m+\u001b[39;49m\u001b[43mlevel\u001b[49m\u001b[43m)\u001b[49m\n",
      "File \u001b[1;32mC:\\ProgramData\\Anaconda3\\envs\\stage\\lib\\site-packages\\brian2\\core\\magic.py:231\u001b[0m, in \u001b[0;36mMagicNetwork.run\u001b[1;34m(self, duration, report, report_period, namespace, profile, level)\u001b[0m\n\u001b[0;32m    228\u001b[0m \u001b[38;5;28;01mdef\u001b[39;00m \u001b[38;5;21mrun\u001b[39m(\u001b[38;5;28mself\u001b[39m, duration, report\u001b[38;5;241m=\u001b[39m\u001b[38;5;28;01mNone\u001b[39;00m, report_period\u001b[38;5;241m=\u001b[39m\u001b[38;5;241m10\u001b[39m\u001b[38;5;241m*\u001b[39msecond,\n\u001b[0;32m    229\u001b[0m         namespace\u001b[38;5;241m=\u001b[39m\u001b[38;5;28;01mNone\u001b[39;00m, profile\u001b[38;5;241m=\u001b[39m\u001b[38;5;28;01mFalse\u001b[39;00m, level\u001b[38;5;241m=\u001b[39m\u001b[38;5;241m0\u001b[39m):\n\u001b[0;32m    230\u001b[0m     \u001b[38;5;28mself\u001b[39m\u001b[38;5;241m.\u001b[39m_update_magic_objects(level\u001b[38;5;241m=\u001b[39mlevel\u001b[38;5;241m+\u001b[39m\u001b[38;5;241m1\u001b[39m)\n\u001b[1;32m--> 231\u001b[0m     \u001b[43mNetwork\u001b[49m\u001b[38;5;241;43m.\u001b[39;49m\u001b[43mrun\u001b[49m\u001b[43m(\u001b[49m\u001b[38;5;28;43mself\u001b[39;49m\u001b[43m,\u001b[49m\u001b[43m \u001b[49m\u001b[43mduration\u001b[49m\u001b[43m,\u001b[49m\u001b[43m \u001b[49m\u001b[43mreport\u001b[49m\u001b[38;5;241;43m=\u001b[39;49m\u001b[43mreport\u001b[49m\u001b[43m,\u001b[49m\u001b[43m \u001b[49m\u001b[43mreport_period\u001b[49m\u001b[38;5;241;43m=\u001b[39;49m\u001b[43mreport_period\u001b[49m\u001b[43m,\u001b[49m\n\u001b[0;32m    232\u001b[0m \u001b[43m                \u001b[49m\u001b[43mnamespace\u001b[49m\u001b[38;5;241;43m=\u001b[39;49m\u001b[43mnamespace\u001b[49m\u001b[43m,\u001b[49m\u001b[43m \u001b[49m\u001b[43mprofile\u001b[49m\u001b[38;5;241;43m=\u001b[39;49m\u001b[43mprofile\u001b[49m\u001b[43m,\u001b[49m\u001b[43m \u001b[49m\u001b[43mlevel\u001b[49m\u001b[38;5;241;43m=\u001b[39;49m\u001b[43mlevel\u001b[49m\u001b[38;5;241;43m+\u001b[39;49m\u001b[38;5;241;43m1\u001b[39;49m\u001b[43m)\u001b[49m\n",
      "File \u001b[1;32mC:\\ProgramData\\Anaconda3\\envs\\stage\\lib\\site-packages\\brian2\\core\\base.py:280\u001b[0m, in \u001b[0;36mdevice_override.<locals>.device_override_decorator.<locals>.device_override_decorated_function\u001b[1;34m(*args, **kwds)\u001b[0m\n\u001b[0;32m    278\u001b[0m     \u001b[38;5;28;01mreturn\u001b[39;00m \u001b[38;5;28mgetattr\u001b[39m(curdev, name)(\u001b[38;5;241m*\u001b[39margs, \u001b[38;5;241m*\u001b[39m\u001b[38;5;241m*\u001b[39mkwds)\n\u001b[0;32m    279\u001b[0m \u001b[38;5;28;01melse\u001b[39;00m:\n\u001b[1;32m--> 280\u001b[0m     \u001b[38;5;28;01mreturn\u001b[39;00m \u001b[43mfunc\u001b[49m\u001b[43m(\u001b[49m\u001b[38;5;241;43m*\u001b[39;49m\u001b[43margs\u001b[49m\u001b[43m,\u001b[49m\u001b[43m \u001b[49m\u001b[38;5;241;43m*\u001b[39;49m\u001b[38;5;241;43m*\u001b[39;49m\u001b[43mkwds\u001b[49m\u001b[43m)\u001b[49m\n",
      "File \u001b[1;32mC:\\ProgramData\\Anaconda3\\envs\\stage\\lib\\site-packages\\brian2\\units\\fundamentalunits.py:2392\u001b[0m, in \u001b[0;36mcheck_units.<locals>.do_check_units.<locals>.new_f\u001b[1;34m(*args, **kwds)\u001b[0m\n\u001b[0;32m   2383\u001b[0m             error_message \u001b[38;5;241m=\u001b[39m (\u001b[38;5;124m'\u001b[39m\u001b[38;5;124mFunction \u001b[39m\u001b[38;5;124m\"\u001b[39m\u001b[38;5;132;01m{f.__name__}\u001b[39;00m\u001b[38;5;124m\"\u001b[39m\u001b[38;5;124m \u001b[39m\u001b[38;5;124m'\u001b[39m\n\u001b[0;32m   2384\u001b[0m                              \u001b[38;5;124m'\u001b[39m\u001b[38;5;124mexpected a quantitity with unit \u001b[39m\u001b[38;5;124m'\u001b[39m\n\u001b[0;32m   2385\u001b[0m                              \u001b[38;5;124m'\u001b[39m\u001b[38;5;132;01m{unit}\u001b[39;00m\u001b[38;5;124m for argument \u001b[39m\u001b[38;5;124m\"\u001b[39m\u001b[38;5;132;01m{k}\u001b[39;00m\u001b[38;5;124m\"\u001b[39m\u001b[38;5;124m but got \u001b[39m\u001b[38;5;124m'\u001b[39m\n\u001b[0;32m   2386\u001b[0m                              \u001b[38;5;124m'\u001b[39m\u001b[38;5;132;01m{value}\u001b[39;00m\u001b[38;5;124m'\u001b[39m)\u001b[38;5;241m.\u001b[39mformat(f\u001b[38;5;241m=\u001b[39mf, k\u001b[38;5;241m=\u001b[39mk,\n\u001b[0;32m   2387\u001b[0m                                                unit\u001b[38;5;241m=\u001b[39m\u001b[38;5;28mrepr\u001b[39m(au[k]),\n\u001b[0;32m   2388\u001b[0m                                                value\u001b[38;5;241m=\u001b[39mnewkeyset[k])\n\u001b[0;32m   2389\u001b[0m             \u001b[38;5;28;01mraise\u001b[39;00m DimensionMismatchError(error_message,\n\u001b[0;32m   2390\u001b[0m                                          get_dimensions(newkeyset[k]))\n\u001b[1;32m-> 2392\u001b[0m result \u001b[38;5;241m=\u001b[39m \u001b[43mf\u001b[49m\u001b[43m(\u001b[49m\u001b[38;5;241;43m*\u001b[39;49m\u001b[43margs\u001b[49m\u001b[43m,\u001b[49m\u001b[43m \u001b[49m\u001b[38;5;241;43m*\u001b[39;49m\u001b[38;5;241;43m*\u001b[39;49m\u001b[43mkwds\u001b[49m\u001b[43m)\u001b[49m\n\u001b[0;32m   2393\u001b[0m \u001b[38;5;28;01mif\u001b[39;00m \u001b[38;5;124m'\u001b[39m\u001b[38;5;124mresult\u001b[39m\u001b[38;5;124m'\u001b[39m \u001b[38;5;129;01min\u001b[39;00m au:\n\u001b[0;32m   2394\u001b[0m     \u001b[38;5;28;01mif\u001b[39;00m au[\u001b[38;5;124m'\u001b[39m\u001b[38;5;124mresult\u001b[39m\u001b[38;5;124m'\u001b[39m] \u001b[38;5;241m==\u001b[39m \u001b[38;5;28mbool\u001b[39m:\n",
      "File \u001b[1;32mC:\\ProgramData\\Anaconda3\\envs\\stage\\lib\\site-packages\\brian2\\core\\network.py:1012\u001b[0m, in \u001b[0;36mNetwork.run\u001b[1;34m(self, duration, report, report_period, namespace, profile, level)\u001b[0m\n\u001b[0;32m   1009\u001b[0m \u001b[38;5;28;01mif\u001b[39;00m namespace \u001b[38;5;129;01mis\u001b[39;00m \u001b[38;5;28;01mNone\u001b[39;00m:\n\u001b[0;32m   1010\u001b[0m     namespace \u001b[38;5;241m=\u001b[39m get_local_namespace(level\u001b[38;5;241m=\u001b[39mlevel\u001b[38;5;241m+\u001b[39m\u001b[38;5;241m3\u001b[39m)\n\u001b[1;32m-> 1012\u001b[0m \u001b[38;5;28;43mself\u001b[39;49m\u001b[38;5;241;43m.\u001b[39;49m\u001b[43mbefore_run\u001b[49m\u001b[43m(\u001b[49m\u001b[43mnamespace\u001b[49m\u001b[43m)\u001b[49m\n\u001b[0;32m   1014\u001b[0m \u001b[38;5;28;01mif\u001b[39;00m \u001b[38;5;28mlen\u001b[39m(all_objects) \u001b[38;5;241m==\u001b[39m \u001b[38;5;241m0\u001b[39m:\n\u001b[0;32m   1015\u001b[0m     \u001b[38;5;28;01mreturn\u001b[39;00m  \u001b[38;5;66;03m# TODO: raise an error? warning?\u001b[39;00m\n",
      "File \u001b[1;32mC:\\ProgramData\\Anaconda3\\envs\\stage\\lib\\site-packages\\brian2\\core\\base.py:280\u001b[0m, in \u001b[0;36mdevice_override.<locals>.device_override_decorator.<locals>.device_override_decorated_function\u001b[1;34m(*args, **kwds)\u001b[0m\n\u001b[0;32m    278\u001b[0m     \u001b[38;5;28;01mreturn\u001b[39;00m \u001b[38;5;28mgetattr\u001b[39m(curdev, name)(\u001b[38;5;241m*\u001b[39margs, \u001b[38;5;241m*\u001b[39m\u001b[38;5;241m*\u001b[39mkwds)\n\u001b[0;32m    279\u001b[0m \u001b[38;5;28;01melse\u001b[39;00m:\n\u001b[1;32m--> 280\u001b[0m     \u001b[38;5;28;01mreturn\u001b[39;00m \u001b[43mfunc\u001b[49m\u001b[43m(\u001b[49m\u001b[38;5;241;43m*\u001b[39;49m\u001b[43margs\u001b[49m\u001b[43m,\u001b[49m\u001b[43m \u001b[49m\u001b[38;5;241;43m*\u001b[39;49m\u001b[38;5;241;43m*\u001b[39;49m\u001b[43mkwds\u001b[49m\u001b[43m)\u001b[49m\n",
      "File \u001b[1;32mC:\\ProgramData\\Anaconda3\\envs\\stage\\lib\\site-packages\\brian2\\core\\network.py:903\u001b[0m, in \u001b[0;36mNetwork.before_run\u001b[1;34m(self, run_namespace)\u001b[0m\n\u001b[0;32m    901\u001b[0m             obj\u001b[38;5;241m.\u001b[39mbefore_run(run_namespace)\n\u001b[0;32m    902\u001b[0m         \u001b[38;5;28;01mexcept\u001b[39;00m \u001b[38;5;167;01mException\u001b[39;00m \u001b[38;5;28;01mas\u001b[39;00m ex:\n\u001b[1;32m--> 903\u001b[0m             \u001b[38;5;28;01mraise\u001b[39;00m brian_object_exception(\u001b[38;5;124m\"\u001b[39m\u001b[38;5;124mAn error occurred when preparing an object.\u001b[39m\u001b[38;5;124m\"\u001b[39m, obj, ex)\n\u001b[0;32m    905\u001b[0m \u001b[38;5;66;03m# Check that no object has been run as part of another network before\u001b[39;00m\n\u001b[0;32m    906\u001b[0m \u001b[38;5;28;01mfor\u001b[39;00m obj \u001b[38;5;129;01min\u001b[39;00m all_objects:\n",
      "\u001b[1;31mBrianObjectException\u001b[0m: Original error and traceback:\nTraceback (most recent call last):\n  File \"C:\\ProgramData\\Anaconda3\\envs\\stage\\lib\\site-packages\\brian2\\core\\network.py\", line 901, in before_run\n    obj.before_run(run_namespace)\n  File \"C:\\ProgramData\\Anaconda3\\envs\\stage\\lib\\site-packages\\brian2\\groups\\neurongroup.py\", line 888, in before_run\n    self.equations.check_units(self, run_namespace=run_namespace)\n  File \"C:\\ProgramData\\Anaconda3\\envs\\stage\\lib\\site-packages\\brian2\\equations\\equations.py\", line 949, in check_units\n    resolved_namespace = group.resolve_all(external, run_namespace,\n  File \"C:\\ProgramData\\Anaconda3\\envs\\stage\\lib\\site-packages\\brian2\\groups\\group.py\", line 741, in resolve_all\n    resolved[identifier] = self._resolve(identifier,\n  File \"C:\\ProgramData\\Anaconda3\\envs\\stage\\lib\\site-packages\\brian2\\groups\\group.py\", line 701, in _resolve\n    return self._resolve_external(identifier, run_namespace=run_namespace)\n  File \"C:\\ProgramData\\Anaconda3\\envs\\stage\\lib\\site-packages\\brian2\\groups\\group.py\", line 825, in _resolve_external\n    raise KeyError(error_msg)\nKeyError: 'The identifier \"iENa\" could not be resolved.'\n\nError encountered with object named \"neurongroup_9\".\nObject was created here (most recent call only, full details in debug log):\n  File \"C:\\Users\\laure\\OneDrive\\Documenten\\Organisatie\\Stage\\NeuralNetworks\\models\\currentmodel.py\", line 162, in make_model\n    neuron = b2.NeuronGroup(1, model=eqs + eqs_input, method='exponential_euler',\n\nAn error occurred when preparing an object. KeyError: 'The identifier \"iENa\" could not be resolved.'\n(See above for original error message and traceback.)"
     ]
    }
   ],
   "source": [
    "start_scope()\n",
    "#creating the neuron\n",
    "current_PC = Barrel_PC(dt=dt)\n",
    "current_IN = Barrel_IN(dt=dt)\n",
    "#getting the neurongroups\n",
    "IN = current_IN.getNeurongroup()\n",
    "PC = current_PC.getNeurongroup()\n",
    "#tracking the values interneuron\n",
    "IN_M = StateMonitor(IN, 'v', record=True)\n",
    "IN_S = SpikeMonitor(IN, record=True)\n",
    "#tracking the values pyramidal neuron\n",
    "PC_M = StateMonitor(PC, 'v', record=True)\n",
    "PC_S = SpikeMonitor(PC, record=True)\n",
    "\n",
    "run(20*ms)"
   ]
  },
  {
   "cell_type": "code",
   "execution_count": null,
   "metadata": {
    "pycharm": {
     "name": "#%%\n"
    }
   },
   "outputs": [],
   "source": [
    "plot(IN_M.t.ms, IN_M.v[0])"
   ]
  },
  {
   "cell_type": "code",
   "execution_count": null,
   "metadata": {
    "pycharm": {
     "name": "#%%\n"
    }
   },
   "outputs": [],
   "source": []
  },
  {
   "cell_type": "code",
   "execution_count": null,
   "metadata": {
    "pycharm": {
     "name": "#%%\n"
    }
   },
   "outputs": [],
   "source": [
    "start_scope()\n",
    "#Making the neurongroups\n",
    "PC = Barrel_PC(dt=dt)\n",
    "IN = Barrel_IN(dt=dt)\n",
    "#tracking the values interneuron\n",
    "IN_M = StateMonitor(IN, 'v', record=True, dt = 0.2*ms)\n",
    "IN_S = SpikeMonitor(IN, record=True)\n",
    "#tracking the values pyramidal neuron\n",
    "PC_M = StateMonitor(PC, 'v', record=True)\n",
    "PC_S = SpikeMonitor(PC, record=True)\n",
    "\n",
    "run(20*ms)"
   ]
  },
  {
   "cell_type": "code",
   "execution_count": null,
   "metadata": {
    "pycharm": {
     "name": "#%%\n"
    }
   },
   "outputs": [],
   "source": [
    "#setting the synapses\n",
    "syn = Synapses(G1, G2, 'dw/dt = -w / (50*ms): 1 (event-driven)', on_pre='v += w')\n",
    "\n",
    "syn.connect('i == j', p=0.75)"
   ]
  },
  {
   "cell_type": "code",
   "execution_count": null,
   "metadata": {
    "pycharm": {
     "name": "#%%\n"
    }
   },
   "outputs": [],
   "source": []
  }
 ],
 "metadata": {
  "kernelspec": {
   "display_name": "Python 3 (ipykernel)",
   "language": "python",
   "name": "python3"
  },
  "language_info": {
   "codemirror_mode": {
    "name": "ipython",
    "version": 3
   },
   "file_extension": ".py",
   "mimetype": "text/x-python",
   "name": "python",
   "nbconvert_exporter": "python",
   "pygments_lexer": "ipython3",
   "version": "3.8.13"
  }
 },
 "nbformat": 4,
 "nbformat_minor": 1
}
