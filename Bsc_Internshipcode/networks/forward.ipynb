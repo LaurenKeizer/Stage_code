{
 "cells": [
  {
   "cell_type": "code",
   "execution_count": null,
   "metadata": {
    "collapsed": true
   },
   "outputs": [],
   "source": [
    "from foundations.helpers import scale_input_theory\n",
    "from brian2 import *\n",
    "import numpy as np\n",
    "import pandas as pd\n",
    "from models.currentmodel import Barrel_PC, Barrel_IN\n",
    "from foundations.helpers import make_spiketrain\n",
    "from foundations.helpers import scale_to_freq\n",
    "from foundations.MutaulInformation import analyze_exp\n",
    "from Bsc_Internshipcode.foundations.make_input import make_input\n",
    "%matplotlib inline"
   ]
  },
  {
   "cell_type": "code",
   "execution_count": null,
   "outputs": [],
   "source": [
    "qon_qoff_type = 'balanced'\n",
    "baseline = 0\n",
    "theta = 0\n",
    "factor_ron_roff = 2\n",
    "tau_PC = 200\n",
    "ron_PC = 1./(tau_PC*(1+factor_ron_roff))\n",
    "roff_PC = factor_ron_roff*ron_PC\n",
    "mean_firing_rate = (0.1)/1000\n",
    "duration = 100000\n",
    "sampling_rate = 5\n",
    "#scales = {'CC_PC':19, 'DC_PC':30, 'CC_IN':17, 'DC_IN':6}\n",
    "dt = 1/sampling_rate\n",
    "defaultclock.dt = dt*ms\n",
    "on_off_ratio = 1.5\n",
    "target_PC = 1.4233\n",
    "scale_list = np.append([1], np.arange(2.5, 302.5, 2.5))"
   ],
   "metadata": {
    "collapsed": false
   }
  },
  {
   "cell_type": "code",
   "execution_count": null,
   "outputs": [],
   "source": [
    "input = (qon_qoff_type, baseline, tau, factor_ron_roff, mean_firing_rate, sampling_rate, duration,\n",
    "seed=None"
   ],
   "metadata": {
    "collapsed": false
   }
  },
  {
   "cell_type": "code",
   "execution_count": null,
   "outputs": [],
   "source": [],
   "metadata": {
    "collapsed": false
   }
  },
  {
   "cell_type": "code",
   "execution_count": null,
   "outputs": [],
   "source": [],
   "metadata": {
    "collapsed": false
   }
  }
 ],
 "metadata": {
  "kernelspec": {
   "display_name": "Python 3",
   "language": "python",
   "name": "python3"
  },
  "language_info": {
   "codemirror_mode": {
    "name": "ipython",
    "version": 2
   },
   "file_extension": ".py",
   "mimetype": "text/x-python",
   "name": "python",
   "nbconvert_exporter": "python",
   "pygments_lexer": "ipython2",
   "version": "2.7.6"
  }
 },
 "nbformat": 4,
 "nbformat_minor": 0
}
