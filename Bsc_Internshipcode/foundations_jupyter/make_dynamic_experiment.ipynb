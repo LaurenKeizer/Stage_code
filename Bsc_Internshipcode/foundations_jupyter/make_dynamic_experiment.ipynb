{
 "cells": [
  {
   "cell_type": "markdown",
   "source": [
    "Make Dynamic Experiment\n",
    "\n",
    "    This file contains the function that generates a hidden state and the corresponding theoretical\n",
    "    input (current or conductance).\n",
    "\n",
    "    The method is described in the following paper:\n",
    "    Zeldenrust, F., de Knecht, S., Wadman, W. J., Denève, S., Gutkin, B., Knecht, S. De, Denève, S. (2017).\n",
    "    Estimating the Information Extracted by a Single Spiking Neuron from a Continuous Input Time Series.\n",
    "    Frontiers in Computational Neuroscience, 11(June), 49. doi:10.3389/FNCOM.2017.00049\n",
    "    Please cite this reference when using this method.\n",
    "\n",
    "    NOTE Make sure that you save the hidden state & input theory with the experiments, it is\n",
    "    essential for the information calculation!\n"
   ],
   "metadata": {
    "collapsed": false
   }
  },
  {
   "cell_type": "code",
   "execution_count": 1,
   "outputs": [],
   "source": [
    "import numpy as np\n",
    "#import Bsc_Internshipcode.parameters as p\n",
    "from foundations.input import Input"
   ],
   "metadata": {
    "collapsed": false
   }
  },
  {
   "cell_type": "code",
   "execution_count": 2,
   "outputs": [],
   "source": [
    "def make_dynamic_experiments(qon_qoff_type, baseline, tau, factor_ron_roff, mean_firing_rate, sampling_rate, duration,\n",
    "                             seed=None):\n",
    "    ''' Make hidden state and let an ANN generate a theoretical input corresponding to that hidden state.\n",
    "\n",
    "    INPUT\n",
    "    qon_qoff_type (str): The method of qon/qoff generation normal, balanced or balanced_uniform\n",
    "    baseline (int): Baseline for scaling the input current in picoampere\n",
    "    tau (ms): Switching speed of the hidden state in milliseconds\n",
    "    factor_on_off (float): ratio determining the occurance of the ON and OFF state\n",
    "    mean_firing_rate (int): Mean firing rate of the artificial neurons in kilohertz\n",
    "    sampling rate (int): Sampling rate of the experimental setup (injected current) in kilohertz\n",
    "    duration (float): Length of the duration in milliseconds\n",
    "    seed (optional): seed used in the random number generator\n",
    "\n",
    "    OUTPUT\n",
    "    [input_theory, dynamic_theory, hidden_state] (array): array containing theoretical input and hidden state\n",
    "    input_theory (array): the theoretical current input\n",
    "    dynamic_theory (array): the theoretical conductance input\n",
    "    hidden_state: 1xN array with hidden state values 0=OFF 1=ON\n",
    "    '''\n",
    "\n",
    "    # Set RNG seed, if no seed is provided\n",
    "    if seed == None:\n",
    "        np.random.seed()\n",
    "        seed = np.random.randint(1000000000)\n",
    "\n",
    "    # Fixed parameters\n",
    "    N = 1000\n",
    "    dt = 1. / sampling_rate\n",
    "    tau_exponential_kernel = 5\n",
    "    alpha = np.sqrt(1 / 8)  # SEM * N\n",
    "    stdq = alpha * mean_firing_rate\n",
    "    ron = 1. / (tau * (1 + factor_ron_roff))\n",
    "    roff = factor_ron_roff * ron\n",
    "\n",
    "    # Create input from artifical network\n",
    "    input_bayes = Input()\n",
    "    input_bayes.dt = dt\n",
    "    input_bayes.T = duration\n",
    "    input_bayes.kernel = 'exponential'\n",
    "    input_bayes.kerneltau = tau_exponential_kernel\n",
    "    input_bayes.ron = ron\n",
    "    input_bayes.roff = roff\n",
    "    input_bayes.seed = seed\n",
    "    input_bayes.xseed = seed\n",
    "\n",
    "    # Create qon/qoff\n",
    "    if qon_qoff_type == 'normal':\n",
    "        mutheta = 1  # The summed difference between qon and qoff\n",
    "        alphan = alpha\n",
    "        regime = 1\n",
    "        [input_bayes.qon, input_bayes.qoff] = input_bayes.create_qonqoff(mutheta, N, alphan, regime, seed)\n",
    "    elif qon_qoff_type == 'balanced':\n",
    "        [input_bayes.qon, input_bayes.qoff] = input_bayes.create_qonqoff_balanced(N, mean_firing_rate, stdq, seed)\n",
    "    elif qon_qoff_type == 'balanced_uniform':\n",
    "        minq = 10\n",
    "        maxq = 100\n",
    "        [input_bayes.qon, input_bayes.qoff] = input_bayes.create_qonqoff_balanced_uniform(N, minq, maxq, seed)\n",
    "    else:\n",
    "        raise SyntaxError('No qon/qoff creation type specified')\n",
    "\n",
    "    # Generate weights and hiddenstate\n",
    "    input_bayes.get_all()\n",
    "    input_bayes.x = input_bayes.markov_hiddenstate()\n",
    "\n",
    "    # Generate input_current for comparison\n",
    "    input_theory = input_bayes.markov_input()\n",
    "\n",
    "    return [input_theory, input_bayes.x]\n"
   ],
   "metadata": {
    "collapsed": false
   }
  }
 ],
 "metadata": {
  "kernelspec": {
   "display_name": "Python 3",
   "language": "python",
   "name": "python3"
  },
  "language_info": {
   "codemirror_mode": {
    "name": "ipython",
    "version": 2
   },
   "file_extension": ".py",
   "mimetype": "text/x-python",
   "name": "python",
   "nbconvert_exporter": "python",
   "pygments_lexer": "ipython2",
   "version": "2.7.6"
  }
 },
 "nbformat": 4,
 "nbformat_minor": 0
}
