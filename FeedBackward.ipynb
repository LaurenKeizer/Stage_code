{
 "cells": [
  {
   "cell_type": "code",
   "execution_count": 1,
   "metadata": {},
   "outputs": [
    {
     "name": "stderr",
     "output_type": "stream",
     "text": [
      "INFO       Cache size for target \"cython\": 1155 MB.\n",
      "You can call \"clear_cache('cython')\" to delete all files from the cache or manually delete files in the \"C:\\Users\\laure\\.cython\\brian_extensions\" directory. [brian2]\n"
     ]
    }
   ],
   "source": [
    "from brian2 import *\n",
    "import numpy as np\n",
    "import pandas as pd\n",
    "from models.currentmodel import Barrel_PC, Barrel_IN\n",
    "from foundations.helpers import make_spiketrain\n",
    "from foundations.helpers import scale_to_freq\n",
    "from foundations.MutaulInformation import analyze_exp\n",
    "from foundations.make_dynamic_experiments import make_dynamic_experiments\n",
    "%matplotlib inline\n"
   ]
  },
  {
   "cell_type": "code",
   "execution_count": 2,
   "metadata": {},
   "outputs": [],
   "source": [
    "qon_qoff_type = 'balanced'\n",
    "baseline = 0  \n",
    "theta = 0     \n",
    "factor_ron_roff = 2    \n",
    "tau_PC = 200\n",
    "ron_PC = 1./(tau_PC*(1+factor_ron_roff))\n",
    "roff_PC = factor_ron_roff*ron_PC\n",
    "mean_firing_rate = (0.1)/1000\n",
    "duration = 100000\n",
    "duration2 = 1000\n",
    "sampling_rate = 5   \n",
    "scales = {'CC_PC':19, 'DC_PC':30, 'CC_IN':17, 'DC_IN':6}\n",
    "dt = 1/sampling_rate \n",
    "defaultclock.dt = dt*ms\n",
    "on_off_ratio = 1.5\n",
    "target_PC = 1.4233\n",
    "scale_list = np.append([1], np.arange(2.5, 302.5, 2.5))"
   ]
  },
  {
   "cell_type": "code",
   "execution_count": null,
   "metadata": {},
   "outputs": [],
   "source": []
  },
  {
   "cell_type": "code",
   "execution_count": null,
   "metadata": {},
   "outputs": [],
   "source": [
    "#Getting the input, generating the same one for both pyramidal cell and interneuron\n",
    "#also doing the scaling the same\n",
    "[input_theory, hidden_state] = make_dynamic_experiments(qon_qoff_type, baseline, tau_PC, factor_ron_roff, mean_firing_rate, sampling_rate, duration2)\n",
    "inj_input = scale_input_theory(input_theory, 0, 18, dt)"
   ]
  },
  {
   "cell_type": "code",
   "execution_count": null,
   "metadata": {},
   "outputs": [],
   "source": [
    "np.size(input_theory)"
   ]
  },
  {
   "cell_type": "code",
   "execution_count": 16,
   "metadata": {},
   "outputs": [],
   "source": [
    "#Getting the input, generating the same one for both pyramidal cell and interneuron\n",
    "#also doing the scaling the same\n",
    "[input_theory, hidden_state] = make_dynamic_experiments(qon_qoff_type, baseline, tau_PC, factor_ron_roff, mean_firing_rate, sampling_rate, duration2)\n",
    "inj_input = scale_input_theory(input_theory, 0, 18, dt)"
   ]
  },
  {
   "cell_type": "code",
   "execution_count": 17,
   "metadata": {},
   "outputs": [
    {
     "data": {
      "text/plain": [
       "5000"
      ]
     },
     "execution_count": 17,
     "metadata": {},
     "output_type": "execute_result"
    }
   ],
   "source": [
    "np.size(input_theory)"
   ]
  },
  {
   "cell_type": "code",
   "execution_count": null,
   "metadata": {},
   "outputs": [],
   "source": [
    "#The feedforward simulation\n",
    "start_scope()\n",
    "\n",
    "\n",
    "PC = Barrel_PC(dt=dt)\n",
    "PC2 = Barrel_PC(dt=dt)\n",
    "IN = Barrel_IN(dt=dt, Input = False)\n",
    "\n",
    "PC_neuron2 = PC2.getNeurongroup()\n",
    "PC_neuron = PC.getNeurongroup()\n",
    "IN_neuron = IN.getNeurongroup()\n",
    "\n",
    "param = PC.getNamespace().update(IN.getNamespace())                                \n",
    "syn_forward = Synapses(PC_neuron, IN_neuron, on_pre='''v += 50*mV''', namespace = param)\n",
    "syn_forward.connect()\n",
    "\n",
    "syn_backward = Synapses(IN_neuron, PC_neuron, delay = 0.01*ms, on_pre='''v += -50*mV''', namespace = param )\n",
    "syn_backward.connect()\n",
    "\n",
    "PC_M2 = StateMonitor(PC_neuron2, 'v', record=True)                                \n",
    "PC_M = StateMonitor(PC_neuron, 'v', record=True)\n",
    "IN_M = StateMonitor(IN_neuron, 'v', record=True)\n",
    "\n",
    "PC_S2 = SpikeMonitor(PC_neuron2)                                \n",
    "PC_S = SpikeMonitor(PC_neuron)\n",
    "IN_S = SpikeMonitor(IN_neuron)\n",
    "\n",
    "                                 \n",
    "run(duration2*ms)"
   ]
  },
  {
   "cell_type": "code",
   "execution_count": null,
   "metadata": {},
   "outputs": [],
   "source": [
    "figure(figsize=(10, 10))\n",
    "subplot(221)\n",
    "plot(PC_M2.t/ms, PC_M2.v[0], label='pre_PC')\n",
    "legend()\n",
    "\n",
    "subplot(222)\n",
    "plot(IN_M.t/ms, IN_M.v[0], label=\"pre_IN\")\n",
    "legend()\n",
    "\n",
    "\n",
    "subplot(223)\n",
    "plot(PC_M.t/ms, PC_M.v[0], label='post_PC')\n",
    "legend()\n",
    "\n",
    "subplot(224)\n",
    "plot(PC_M.t/ms, PC_M.v[0], label=\"post_PC\")\n",
    "legend()\n",
    "xlabel('Time (ms)');"
   ]
  },
  {
   "cell_type": "code",
   "execution_count": null,
   "metadata": {},
   "outputs": [],
   "source": [
    "figure(figsize=(10, 4))\n",
    "subplot(311)\n",
    "plot(PC_M2.t/ms, PC_M2.v[0], label='pre_PC')\n",
    "legend()\n",
    "subplot(312)\n",
    "plot(IN_M.t/ms, IN_M.v[0], label=\"pre_IN\")\n",
    "legend()\n",
    "subplot(313)\n",
    "plot(PC_M.t/ms, PC_M.v[0], label=\"post_PC\")\n",
    "legend()"
   ]
  },
  {
   "cell_type": "markdown",
   "metadata": {},
   "source": [
    "## Estimating parameters"
   ]
  },
  {
   "cell_type": "code",
   "execution_count": 5,
   "metadata": {},
   "outputs": [
    {
     "name": "stderr",
     "output_type": "stream",
     "text": [
      "WARNING    C:\\ProgramData\\Anaconda3\\envs\\stage\\lib\\site-packages\\brian2\\units\\fundamentalunits.py:2262: SyntaxWarning: \"is\" with a literal. Did you mean \"==\"?\n",
      "  if d is 1 or d is DIMENSIONLESS:\n",
      " [py.warnings]\n",
      "WARNING    C:\\ProgramData\\Anaconda3\\envs\\stage\\lib\\site-packages\\brian2\\units\\fundamentalunits.py:2262: SyntaxWarning: \"is\" with a literal. Did you mean \"==\"?\n",
      "  if d is 1 or d is DIMENSIONLESS:\n",
      " [py.warnings]\n"
     ]
    },
    {
     "ename": "BrianObjectException",
     "evalue": "Original error and traceback:\nTraceback (most recent call last):\n  File \"C:\\ProgramData\\Anaconda3\\envs\\stage\\lib\\site-packages\\brian2\\core\\network.py\", line 901, in before_run\n    obj.before_run(run_namespace)\n  File \"C:\\ProgramData\\Anaconda3\\envs\\stage\\lib\\site-packages\\brian2\\groups\\neurongroup.py\", line 888, in before_run\n    self.equations.check_units(self, run_namespace=run_namespace)\n  File \"C:\\ProgramData\\Anaconda3\\envs\\stage\\lib\\site-packages\\brian2\\equations\\equations.py\", line 949, in check_units\n    resolved_namespace = group.resolve_all(external, run_namespace,\n  File \"C:\\ProgramData\\Anaconda3\\envs\\stage\\lib\\site-packages\\brian2\\groups\\group.py\", line 741, in resolve_all\n    resolved[identifier] = self._resolve(identifier,\n  File \"C:\\ProgramData\\Anaconda3\\envs\\stage\\lib\\site-packages\\brian2\\groups\\group.py\", line 701, in _resolve\n    return self._resolve_external(identifier, run_namespace=run_namespace)\n  File \"C:\\ProgramData\\Anaconda3\\envs\\stage\\lib\\site-packages\\brian2\\groups\\group.py\", line 825, in _resolve_external\n    raise KeyError(error_msg)\nKeyError: 'The identifier \"inj_input\" could not be resolved.'\n\nError encountered with object named \"neurongroup\".\nObject was created here (most recent call only, full details in debug log):\n  File \"C:\\Users\\laure\\OneDrive\\Documenten\\Organisatie\\Stage\\NeuralNetworks\\models\\currentmodel.py\", line 64, in make_model\n    neuron = b2.NeuronGroup(self.amount, model=eqs + eqs_input, method='exponential_euler',\n\nAn error occurred when preparing an object. KeyError: 'The identifier \"inj_input\" could not be resolved.'\n(See above for original error message and traceback.)",
     "output_type": "error",
     "traceback": [
      "\u001B[1;31m---------------------------------------------------------------------------\u001B[0m",
      "\u001B[1;31mKeyError\u001B[0m                                  Traceback (most recent call last)",
      "File \u001B[1;32mC:\\ProgramData\\Anaconda3\\envs\\stage\\lib\\site-packages\\brian2\\core\\network.py:901\u001B[0m, in \u001B[0;36mNetwork.before_run\u001B[1;34m(self, run_namespace)\u001B[0m\n\u001B[0;32m    900\u001B[0m \u001B[38;5;28;01mtry\u001B[39;00m:\n\u001B[1;32m--> 901\u001B[0m     \u001B[43mobj\u001B[49m\u001B[38;5;241;43m.\u001B[39;49m\u001B[43mbefore_run\u001B[49m\u001B[43m(\u001B[49m\u001B[43mrun_namespace\u001B[49m\u001B[43m)\u001B[49m\n\u001B[0;32m    902\u001B[0m \u001B[38;5;28;01mexcept\u001B[39;00m \u001B[38;5;167;01mException\u001B[39;00m \u001B[38;5;28;01mas\u001B[39;00m ex:\n",
      "File \u001B[1;32mC:\\ProgramData\\Anaconda3\\envs\\stage\\lib\\site-packages\\brian2\\groups\\neurongroup.py:888\u001B[0m, in \u001B[0;36mNeuronGroup.before_run\u001B[1;34m(self, run_namespace)\u001B[0m\n\u001B[0;32m    886\u001B[0m \u001B[38;5;28;01mdef\u001B[39;00m \u001B[38;5;21mbefore_run\u001B[39m(\u001B[38;5;28mself\u001B[39m, run_namespace\u001B[38;5;241m=\u001B[39m\u001B[38;5;28;01mNone\u001B[39;00m):\n\u001B[0;32m    887\u001B[0m     \u001B[38;5;66;03m# Check units\u001B[39;00m\n\u001B[1;32m--> 888\u001B[0m     \u001B[38;5;28;43mself\u001B[39;49m\u001B[38;5;241;43m.\u001B[39;49m\u001B[43mequations\u001B[49m\u001B[38;5;241;43m.\u001B[39;49m\u001B[43mcheck_units\u001B[49m\u001B[43m(\u001B[49m\u001B[38;5;28;43mself\u001B[39;49m\u001B[43m,\u001B[49m\u001B[43m \u001B[49m\u001B[43mrun_namespace\u001B[49m\u001B[38;5;241;43m=\u001B[39;49m\u001B[43mrun_namespace\u001B[49m\u001B[43m)\u001B[49m\n\u001B[0;32m    889\u001B[0m     \u001B[38;5;66;03m# Check that subexpressions that refer to stateful functions are labeled\u001B[39;00m\n\u001B[0;32m    890\u001B[0m     \u001B[38;5;66;03m# as \"constant over dt\"\u001B[39;00m\n",
      "File \u001B[1;32mC:\\ProgramData\\Anaconda3\\envs\\stage\\lib\\site-packages\\brian2\\equations\\equations.py:949\u001B[0m, in \u001B[0;36mEquations.check_units\u001B[1;34m(self, group, run_namespace)\u001B[0m\n\u001B[0;32m    947\u001B[0m external \u001B[38;5;241m-\u001B[39m\u001B[38;5;241m=\u001B[39m \u001B[38;5;28mset\u001B[39m(all_variables\u001B[38;5;241m.\u001B[39mkeys())\n\u001B[1;32m--> 949\u001B[0m resolved_namespace \u001B[38;5;241m=\u001B[39m \u001B[43mgroup\u001B[49m\u001B[38;5;241;43m.\u001B[39;49m\u001B[43mresolve_all\u001B[49m\u001B[43m(\u001B[49m\u001B[43mexternal\u001B[49m\u001B[43m,\u001B[49m\u001B[43m \u001B[49m\u001B[43mrun_namespace\u001B[49m\u001B[43m,\u001B[49m\n\u001B[0;32m    950\u001B[0m \u001B[43m                                       \u001B[49m\u001B[43muser_identifiers\u001B[49m\u001B[38;5;241;43m=\u001B[39;49m\u001B[43mexternal\u001B[49m\u001B[43m)\u001B[49m  \u001B[38;5;66;03m# all variables are user defined\u001B[39;00m\n\u001B[0;32m    952\u001B[0m all_variables\u001B[38;5;241m.\u001B[39mupdate(resolved_namespace)\n",
      "File \u001B[1;32mC:\\ProgramData\\Anaconda3\\envs\\stage\\lib\\site-packages\\brian2\\groups\\group.py:741\u001B[0m, in \u001B[0;36mGroup.resolve_all\u001B[1;34m(self, identifiers, run_namespace, user_identifiers, additional_variables)\u001B[0m\n\u001B[0;32m    740\u001B[0m \u001B[38;5;28;01mfor\u001B[39;00m identifier \u001B[38;5;129;01min\u001B[39;00m identifiers:\n\u001B[1;32m--> 741\u001B[0m     resolved[identifier] \u001B[38;5;241m=\u001B[39m \u001B[38;5;28;43mself\u001B[39;49m\u001B[38;5;241;43m.\u001B[39;49m\u001B[43m_resolve\u001B[49m\u001B[43m(\u001B[49m\u001B[43midentifier\u001B[49m\u001B[43m,\u001B[49m\n\u001B[0;32m    742\u001B[0m \u001B[43m                                         \u001B[49m\u001B[43muser_identifier\u001B[49m\u001B[38;5;241;43m=\u001B[39;49m\u001B[43midentifier\u001B[49m\u001B[43m \u001B[49m\u001B[38;5;129;43;01min\u001B[39;49;00m\u001B[43m \u001B[49m\u001B[43muser_identifiers\u001B[49m\u001B[43m,\u001B[49m\n\u001B[0;32m    743\u001B[0m \u001B[43m                                         \u001B[49m\u001B[43madditional_variables\u001B[49m\u001B[38;5;241;43m=\u001B[39;49m\u001B[43madditional_variables\u001B[49m\u001B[43m,\u001B[49m\n\u001B[0;32m    744\u001B[0m \u001B[43m                                         \u001B[49m\u001B[43mrun_namespace\u001B[49m\u001B[38;5;241;43m=\u001B[39;49m\u001B[43mrun_namespace\u001B[49m\u001B[43m)\u001B[49m\n\u001B[0;32m    745\u001B[0m \u001B[38;5;28;01mreturn\u001B[39;00m resolved\n",
      "File \u001B[1;32mC:\\ProgramData\\Anaconda3\\envs\\stage\\lib\\site-packages\\brian2\\groups\\group.py:701\u001B[0m, in \u001B[0;36mGroup._resolve\u001B[1;34m(self, identifier, run_namespace, user_identifier, additional_variables)\u001B[0m\n\u001B[0;32m    699\u001B[0m \u001B[38;5;66;03m# We did not find the name internally, try to resolve it in the external\u001B[39;00m\n\u001B[0;32m    700\u001B[0m \u001B[38;5;66;03m# namespace\u001B[39;00m\n\u001B[1;32m--> 701\u001B[0m \u001B[38;5;28;01mreturn\u001B[39;00m \u001B[38;5;28;43mself\u001B[39;49m\u001B[38;5;241;43m.\u001B[39;49m\u001B[43m_resolve_external\u001B[49m\u001B[43m(\u001B[49m\u001B[43midentifier\u001B[49m\u001B[43m,\u001B[49m\u001B[43m \u001B[49m\u001B[43mrun_namespace\u001B[49m\u001B[38;5;241;43m=\u001B[39;49m\u001B[43mrun_namespace\u001B[49m\u001B[43m)\u001B[49m\n",
      "File \u001B[1;32mC:\\ProgramData\\Anaconda3\\envs\\stage\\lib\\site-packages\\brian2\\groups\\group.py:825\u001B[0m, in \u001B[0;36mGroup._resolve_external\u001B[1;34m(self, identifier, run_namespace, user_identifier, internal_variable)\u001B[0m\n\u001B[0;32m    823\u001B[0m             error_msg \u001B[38;5;241m=\u001B[39m (\u001B[38;5;124m'\u001B[39m\u001B[38;5;124mThe identifier \u001B[39m\u001B[38;5;124m\"\u001B[39m\u001B[38;5;132;01m%s\u001B[39;00m\u001B[38;5;124m\"\u001B[39m\u001B[38;5;124m could not be resolved.\u001B[39m\u001B[38;5;124m'\u001B[39m \u001B[38;5;241m%\u001B[39m\n\u001B[0;32m    824\u001B[0m                          identifier)\n\u001B[1;32m--> 825\u001B[0m         \u001B[38;5;28;01mraise\u001B[39;00m \u001B[38;5;167;01mKeyError\u001B[39;00m(error_msg)\n\u001B[0;32m    827\u001B[0m \u001B[38;5;28;01melif\u001B[39;00m \u001B[38;5;28mlen\u001B[39m(matches) \u001B[38;5;241m>\u001B[39m \u001B[38;5;241m1\u001B[39m:\n\u001B[0;32m    828\u001B[0m     \u001B[38;5;66;03m# Possibly, all matches refer to the same object\u001B[39;00m\n",
      "\u001B[1;31mKeyError\u001B[0m: 'The identifier \"inj_input\" could not be resolved.'",
      "\nDuring handling of the above exception, another exception occurred:\n",
      "\u001B[1;31mBrianObjectException\u001B[0m                      Traceback (most recent call last)",
      "Input \u001B[1;32mIn [5]\u001B[0m, in \u001B[0;36m<cell line: 33>\u001B[1;34m()\u001B[0m\n\u001B[0;32m     34\u001B[0m restore()\n\u001B[0;32m     36\u001B[0m syn_backward\u001B[38;5;241m.\u001B[39mw \u001B[38;5;241m=\u001B[39m [weigth]\n\u001B[1;32m---> 37\u001B[0m \u001B[43mrun\u001B[49m\u001B[43m(\u001B[49m\u001B[43mduration\u001B[49m\u001B[38;5;241;43m*\u001B[39;49m\u001B[43mms\u001B[49m\u001B[43m)\u001B[49m\n\u001B[0;32m     39\u001B[0m IN_spike  \u001B[38;5;241m=\u001B[39m make_spiketrain(IN_S,duration,dt)\n\u001B[0;32m     40\u001B[0m PC_spike  \u001B[38;5;241m=\u001B[39m make_spiketrain(PC_S,duration,dt)\n",
      "File \u001B[1;32mC:\\ProgramData\\Anaconda3\\envs\\stage\\lib\\site-packages\\brian2\\units\\fundamentalunits.py:2392\u001B[0m, in \u001B[0;36mcheck_units.<locals>.do_check_units.<locals>.new_f\u001B[1;34m(*args, **kwds)\u001B[0m\n\u001B[0;32m   2383\u001B[0m             error_message \u001B[38;5;241m=\u001B[39m (\u001B[38;5;124m'\u001B[39m\u001B[38;5;124mFunction \u001B[39m\u001B[38;5;124m\"\u001B[39m\u001B[38;5;132;01m{f.__name__}\u001B[39;00m\u001B[38;5;124m\"\u001B[39m\u001B[38;5;124m \u001B[39m\u001B[38;5;124m'\u001B[39m\n\u001B[0;32m   2384\u001B[0m                              \u001B[38;5;124m'\u001B[39m\u001B[38;5;124mexpected a quantitity with unit \u001B[39m\u001B[38;5;124m'\u001B[39m\n\u001B[0;32m   2385\u001B[0m                              \u001B[38;5;124m'\u001B[39m\u001B[38;5;132;01m{unit}\u001B[39;00m\u001B[38;5;124m for argument \u001B[39m\u001B[38;5;124m\"\u001B[39m\u001B[38;5;132;01m{k}\u001B[39;00m\u001B[38;5;124m\"\u001B[39m\u001B[38;5;124m but got \u001B[39m\u001B[38;5;124m'\u001B[39m\n\u001B[0;32m   2386\u001B[0m                              \u001B[38;5;124m'\u001B[39m\u001B[38;5;132;01m{value}\u001B[39;00m\u001B[38;5;124m'\u001B[39m)\u001B[38;5;241m.\u001B[39mformat(f\u001B[38;5;241m=\u001B[39mf, k\u001B[38;5;241m=\u001B[39mk,\n\u001B[0;32m   2387\u001B[0m                                                unit\u001B[38;5;241m=\u001B[39m\u001B[38;5;28mrepr\u001B[39m(au[k]),\n\u001B[0;32m   2388\u001B[0m                                                value\u001B[38;5;241m=\u001B[39mnewkeyset[k])\n\u001B[0;32m   2389\u001B[0m             \u001B[38;5;28;01mraise\u001B[39;00m DimensionMismatchError(error_message,\n\u001B[0;32m   2390\u001B[0m                                          get_dimensions(newkeyset[k]))\n\u001B[1;32m-> 2392\u001B[0m result \u001B[38;5;241m=\u001B[39m \u001B[43mf\u001B[49m\u001B[43m(\u001B[49m\u001B[38;5;241;43m*\u001B[39;49m\u001B[43margs\u001B[49m\u001B[43m,\u001B[49m\u001B[43m \u001B[49m\u001B[38;5;241;43m*\u001B[39;49m\u001B[38;5;241;43m*\u001B[39;49m\u001B[43mkwds\u001B[49m\u001B[43m)\u001B[49m\n\u001B[0;32m   2393\u001B[0m \u001B[38;5;28;01mif\u001B[39;00m \u001B[38;5;124m'\u001B[39m\u001B[38;5;124mresult\u001B[39m\u001B[38;5;124m'\u001B[39m \u001B[38;5;129;01min\u001B[39;00m au:\n\u001B[0;32m   2394\u001B[0m     \u001B[38;5;28;01mif\u001B[39;00m au[\u001B[38;5;124m'\u001B[39m\u001B[38;5;124mresult\u001B[39m\u001B[38;5;124m'\u001B[39m] \u001B[38;5;241m==\u001B[39m \u001B[38;5;28mbool\u001B[39m:\n",
      "File \u001B[1;32mC:\\ProgramData\\Anaconda3\\envs\\stage\\lib\\site-packages\\brian2\\core\\magic.py:373\u001B[0m, in \u001B[0;36mrun\u001B[1;34m(duration, report, report_period, namespace, profile, level)\u001B[0m\n\u001B[0;32m    311\u001B[0m \u001B[38;5;129m@check_units\u001B[39m(duration\u001B[38;5;241m=\u001B[39msecond, report_period\u001B[38;5;241m=\u001B[39msecond)\n\u001B[0;32m    312\u001B[0m \u001B[38;5;28;01mdef\u001B[39;00m \u001B[38;5;21mrun\u001B[39m(duration, report\u001B[38;5;241m=\u001B[39m\u001B[38;5;28;01mNone\u001B[39;00m, report_period\u001B[38;5;241m=\u001B[39m\u001B[38;5;241m10\u001B[39m\u001B[38;5;241m*\u001B[39msecond, namespace\u001B[38;5;241m=\u001B[39m\u001B[38;5;28;01mNone\u001B[39;00m,\n\u001B[0;32m    313\u001B[0m         profile\u001B[38;5;241m=\u001B[39m\u001B[38;5;28;01mFalse\u001B[39;00m, level\u001B[38;5;241m=\u001B[39m\u001B[38;5;241m0\u001B[39m):\n\u001B[0;32m    314\u001B[0m     \u001B[38;5;124;03m'''\u001B[39;00m\n\u001B[0;32m    315\u001B[0m \u001B[38;5;124;03m    run(duration, report=None, report_period=10*second, namespace=None, level=0)\u001B[39;00m\n\u001B[0;32m    316\u001B[0m \u001B[38;5;124;03m    \u001B[39;00m\n\u001B[1;32m   (...)\u001B[0m\n\u001B[0;32m    371\u001B[0m \u001B[38;5;124;03m        intended use. See `MagicNetwork` for more details.\u001B[39;00m\n\u001B[0;32m    372\u001B[0m \u001B[38;5;124;03m    '''\u001B[39;00m\n\u001B[1;32m--> 373\u001B[0m     \u001B[38;5;28;01mreturn\u001B[39;00m \u001B[43mmagic_network\u001B[49m\u001B[38;5;241;43m.\u001B[39;49m\u001B[43mrun\u001B[49m\u001B[43m(\u001B[49m\u001B[43mduration\u001B[49m\u001B[43m,\u001B[49m\u001B[43m \u001B[49m\u001B[43mreport\u001B[49m\u001B[38;5;241;43m=\u001B[39;49m\u001B[43mreport\u001B[49m\u001B[43m,\u001B[49m\u001B[43m \u001B[49m\u001B[43mreport_period\u001B[49m\u001B[38;5;241;43m=\u001B[39;49m\u001B[43mreport_period\u001B[49m\u001B[43m,\u001B[49m\n\u001B[0;32m    374\u001B[0m \u001B[43m                             \u001B[49m\u001B[43mnamespace\u001B[49m\u001B[38;5;241;43m=\u001B[39;49m\u001B[43mnamespace\u001B[49m\u001B[43m,\u001B[49m\u001B[43m \u001B[49m\u001B[43mprofile\u001B[49m\u001B[38;5;241;43m=\u001B[39;49m\u001B[43mprofile\u001B[49m\u001B[43m,\u001B[49m\u001B[43m \u001B[49m\u001B[43mlevel\u001B[49m\u001B[38;5;241;43m=\u001B[39;49m\u001B[38;5;241;43m2\u001B[39;49m\u001B[38;5;241;43m+\u001B[39;49m\u001B[43mlevel\u001B[49m\u001B[43m)\u001B[49m\n",
      "File \u001B[1;32mC:\\ProgramData\\Anaconda3\\envs\\stage\\lib\\site-packages\\brian2\\core\\magic.py:231\u001B[0m, in \u001B[0;36mMagicNetwork.run\u001B[1;34m(self, duration, report, report_period, namespace, profile, level)\u001B[0m\n\u001B[0;32m    228\u001B[0m \u001B[38;5;28;01mdef\u001B[39;00m \u001B[38;5;21mrun\u001B[39m(\u001B[38;5;28mself\u001B[39m, duration, report\u001B[38;5;241m=\u001B[39m\u001B[38;5;28;01mNone\u001B[39;00m, report_period\u001B[38;5;241m=\u001B[39m\u001B[38;5;241m10\u001B[39m\u001B[38;5;241m*\u001B[39msecond,\n\u001B[0;32m    229\u001B[0m         namespace\u001B[38;5;241m=\u001B[39m\u001B[38;5;28;01mNone\u001B[39;00m, profile\u001B[38;5;241m=\u001B[39m\u001B[38;5;28;01mFalse\u001B[39;00m, level\u001B[38;5;241m=\u001B[39m\u001B[38;5;241m0\u001B[39m):\n\u001B[0;32m    230\u001B[0m     \u001B[38;5;28mself\u001B[39m\u001B[38;5;241m.\u001B[39m_update_magic_objects(level\u001B[38;5;241m=\u001B[39mlevel\u001B[38;5;241m+\u001B[39m\u001B[38;5;241m1\u001B[39m)\n\u001B[1;32m--> 231\u001B[0m     \u001B[43mNetwork\u001B[49m\u001B[38;5;241;43m.\u001B[39;49m\u001B[43mrun\u001B[49m\u001B[43m(\u001B[49m\u001B[38;5;28;43mself\u001B[39;49m\u001B[43m,\u001B[49m\u001B[43m \u001B[49m\u001B[43mduration\u001B[49m\u001B[43m,\u001B[49m\u001B[43m \u001B[49m\u001B[43mreport\u001B[49m\u001B[38;5;241;43m=\u001B[39;49m\u001B[43mreport\u001B[49m\u001B[43m,\u001B[49m\u001B[43m \u001B[49m\u001B[43mreport_period\u001B[49m\u001B[38;5;241;43m=\u001B[39;49m\u001B[43mreport_period\u001B[49m\u001B[43m,\u001B[49m\n\u001B[0;32m    232\u001B[0m \u001B[43m                \u001B[49m\u001B[43mnamespace\u001B[49m\u001B[38;5;241;43m=\u001B[39;49m\u001B[43mnamespace\u001B[49m\u001B[43m,\u001B[49m\u001B[43m \u001B[49m\u001B[43mprofile\u001B[49m\u001B[38;5;241;43m=\u001B[39;49m\u001B[43mprofile\u001B[49m\u001B[43m,\u001B[49m\u001B[43m \u001B[49m\u001B[43mlevel\u001B[49m\u001B[38;5;241;43m=\u001B[39;49m\u001B[43mlevel\u001B[49m\u001B[38;5;241;43m+\u001B[39;49m\u001B[38;5;241;43m1\u001B[39;49m\u001B[43m)\u001B[49m\n",
      "File \u001B[1;32mC:\\ProgramData\\Anaconda3\\envs\\stage\\lib\\site-packages\\brian2\\core\\base.py:280\u001B[0m, in \u001B[0;36mdevice_override.<locals>.device_override_decorator.<locals>.device_override_decorated_function\u001B[1;34m(*args, **kwds)\u001B[0m\n\u001B[0;32m    278\u001B[0m     \u001B[38;5;28;01mreturn\u001B[39;00m \u001B[38;5;28mgetattr\u001B[39m(curdev, name)(\u001B[38;5;241m*\u001B[39margs, \u001B[38;5;241m*\u001B[39m\u001B[38;5;241m*\u001B[39mkwds)\n\u001B[0;32m    279\u001B[0m \u001B[38;5;28;01melse\u001B[39;00m:\n\u001B[1;32m--> 280\u001B[0m     \u001B[38;5;28;01mreturn\u001B[39;00m \u001B[43mfunc\u001B[49m\u001B[43m(\u001B[49m\u001B[38;5;241;43m*\u001B[39;49m\u001B[43margs\u001B[49m\u001B[43m,\u001B[49m\u001B[43m \u001B[49m\u001B[38;5;241;43m*\u001B[39;49m\u001B[38;5;241;43m*\u001B[39;49m\u001B[43mkwds\u001B[49m\u001B[43m)\u001B[49m\n",
      "File \u001B[1;32mC:\\ProgramData\\Anaconda3\\envs\\stage\\lib\\site-packages\\brian2\\units\\fundamentalunits.py:2392\u001B[0m, in \u001B[0;36mcheck_units.<locals>.do_check_units.<locals>.new_f\u001B[1;34m(*args, **kwds)\u001B[0m\n\u001B[0;32m   2383\u001B[0m             error_message \u001B[38;5;241m=\u001B[39m (\u001B[38;5;124m'\u001B[39m\u001B[38;5;124mFunction \u001B[39m\u001B[38;5;124m\"\u001B[39m\u001B[38;5;132;01m{f.__name__}\u001B[39;00m\u001B[38;5;124m\"\u001B[39m\u001B[38;5;124m \u001B[39m\u001B[38;5;124m'\u001B[39m\n\u001B[0;32m   2384\u001B[0m                              \u001B[38;5;124m'\u001B[39m\u001B[38;5;124mexpected a quantitity with unit \u001B[39m\u001B[38;5;124m'\u001B[39m\n\u001B[0;32m   2385\u001B[0m                              \u001B[38;5;124m'\u001B[39m\u001B[38;5;132;01m{unit}\u001B[39;00m\u001B[38;5;124m for argument \u001B[39m\u001B[38;5;124m\"\u001B[39m\u001B[38;5;132;01m{k}\u001B[39;00m\u001B[38;5;124m\"\u001B[39m\u001B[38;5;124m but got \u001B[39m\u001B[38;5;124m'\u001B[39m\n\u001B[0;32m   2386\u001B[0m                              \u001B[38;5;124m'\u001B[39m\u001B[38;5;132;01m{value}\u001B[39;00m\u001B[38;5;124m'\u001B[39m)\u001B[38;5;241m.\u001B[39mformat(f\u001B[38;5;241m=\u001B[39mf, k\u001B[38;5;241m=\u001B[39mk,\n\u001B[0;32m   2387\u001B[0m                                                unit\u001B[38;5;241m=\u001B[39m\u001B[38;5;28mrepr\u001B[39m(au[k]),\n\u001B[0;32m   2388\u001B[0m                                                value\u001B[38;5;241m=\u001B[39mnewkeyset[k])\n\u001B[0;32m   2389\u001B[0m             \u001B[38;5;28;01mraise\u001B[39;00m DimensionMismatchError(error_message,\n\u001B[0;32m   2390\u001B[0m                                          get_dimensions(newkeyset[k]))\n\u001B[1;32m-> 2392\u001B[0m result \u001B[38;5;241m=\u001B[39m \u001B[43mf\u001B[49m\u001B[43m(\u001B[49m\u001B[38;5;241;43m*\u001B[39;49m\u001B[43margs\u001B[49m\u001B[43m,\u001B[49m\u001B[43m \u001B[49m\u001B[38;5;241;43m*\u001B[39;49m\u001B[38;5;241;43m*\u001B[39;49m\u001B[43mkwds\u001B[49m\u001B[43m)\u001B[49m\n\u001B[0;32m   2393\u001B[0m \u001B[38;5;28;01mif\u001B[39;00m \u001B[38;5;124m'\u001B[39m\u001B[38;5;124mresult\u001B[39m\u001B[38;5;124m'\u001B[39m \u001B[38;5;129;01min\u001B[39;00m au:\n\u001B[0;32m   2394\u001B[0m     \u001B[38;5;28;01mif\u001B[39;00m au[\u001B[38;5;124m'\u001B[39m\u001B[38;5;124mresult\u001B[39m\u001B[38;5;124m'\u001B[39m] \u001B[38;5;241m==\u001B[39m \u001B[38;5;28mbool\u001B[39m:\n",
      "File \u001B[1;32mC:\\ProgramData\\Anaconda3\\envs\\stage\\lib\\site-packages\\brian2\\core\\network.py:1012\u001B[0m, in \u001B[0;36mNetwork.run\u001B[1;34m(self, duration, report, report_period, namespace, profile, level)\u001B[0m\n\u001B[0;32m   1009\u001B[0m \u001B[38;5;28;01mif\u001B[39;00m namespace \u001B[38;5;129;01mis\u001B[39;00m \u001B[38;5;28;01mNone\u001B[39;00m:\n\u001B[0;32m   1010\u001B[0m     namespace \u001B[38;5;241m=\u001B[39m get_local_namespace(level\u001B[38;5;241m=\u001B[39mlevel\u001B[38;5;241m+\u001B[39m\u001B[38;5;241m3\u001B[39m)\n\u001B[1;32m-> 1012\u001B[0m \u001B[38;5;28;43mself\u001B[39;49m\u001B[38;5;241;43m.\u001B[39;49m\u001B[43mbefore_run\u001B[49m\u001B[43m(\u001B[49m\u001B[43mnamespace\u001B[49m\u001B[43m)\u001B[49m\n\u001B[0;32m   1014\u001B[0m \u001B[38;5;28;01mif\u001B[39;00m \u001B[38;5;28mlen\u001B[39m(all_objects) \u001B[38;5;241m==\u001B[39m \u001B[38;5;241m0\u001B[39m:\n\u001B[0;32m   1015\u001B[0m     \u001B[38;5;28;01mreturn\u001B[39;00m  \u001B[38;5;66;03m# TODO: raise an error? warning?\u001B[39;00m\n",
      "File \u001B[1;32mC:\\ProgramData\\Anaconda3\\envs\\stage\\lib\\site-packages\\brian2\\core\\base.py:280\u001B[0m, in \u001B[0;36mdevice_override.<locals>.device_override_decorator.<locals>.device_override_decorated_function\u001B[1;34m(*args, **kwds)\u001B[0m\n\u001B[0;32m    278\u001B[0m     \u001B[38;5;28;01mreturn\u001B[39;00m \u001B[38;5;28mgetattr\u001B[39m(curdev, name)(\u001B[38;5;241m*\u001B[39margs, \u001B[38;5;241m*\u001B[39m\u001B[38;5;241m*\u001B[39mkwds)\n\u001B[0;32m    279\u001B[0m \u001B[38;5;28;01melse\u001B[39;00m:\n\u001B[1;32m--> 280\u001B[0m     \u001B[38;5;28;01mreturn\u001B[39;00m \u001B[43mfunc\u001B[49m\u001B[43m(\u001B[49m\u001B[38;5;241;43m*\u001B[39;49m\u001B[43margs\u001B[49m\u001B[43m,\u001B[49m\u001B[43m \u001B[49m\u001B[38;5;241;43m*\u001B[39;49m\u001B[38;5;241;43m*\u001B[39;49m\u001B[43mkwds\u001B[49m\u001B[43m)\u001B[49m\n",
      "File \u001B[1;32mC:\\ProgramData\\Anaconda3\\envs\\stage\\lib\\site-packages\\brian2\\core\\network.py:903\u001B[0m, in \u001B[0;36mNetwork.before_run\u001B[1;34m(self, run_namespace)\u001B[0m\n\u001B[0;32m    901\u001B[0m             obj\u001B[38;5;241m.\u001B[39mbefore_run(run_namespace)\n\u001B[0;32m    902\u001B[0m         \u001B[38;5;28;01mexcept\u001B[39;00m \u001B[38;5;167;01mException\u001B[39;00m \u001B[38;5;28;01mas\u001B[39;00m ex:\n\u001B[1;32m--> 903\u001B[0m             \u001B[38;5;28;01mraise\u001B[39;00m brian_object_exception(\u001B[38;5;124m\"\u001B[39m\u001B[38;5;124mAn error occurred when preparing an object.\u001B[39m\u001B[38;5;124m\"\u001B[39m, obj, ex)\n\u001B[0;32m    905\u001B[0m \u001B[38;5;66;03m# Check that no object has been run as part of another network before\u001B[39;00m\n\u001B[0;32m    906\u001B[0m \u001B[38;5;28;01mfor\u001B[39;00m obj \u001B[38;5;129;01min\u001B[39;00m all_objects:\n",
      "\u001B[1;31mBrianObjectException\u001B[0m: Original error and traceback:\nTraceback (most recent call last):\n  File \"C:\\ProgramData\\Anaconda3\\envs\\stage\\lib\\site-packages\\brian2\\core\\network.py\", line 901, in before_run\n    obj.before_run(run_namespace)\n  File \"C:\\ProgramData\\Anaconda3\\envs\\stage\\lib\\site-packages\\brian2\\groups\\neurongroup.py\", line 888, in before_run\n    self.equations.check_units(self, run_namespace=run_namespace)\n  File \"C:\\ProgramData\\Anaconda3\\envs\\stage\\lib\\site-packages\\brian2\\equations\\equations.py\", line 949, in check_units\n    resolved_namespace = group.resolve_all(external, run_namespace,\n  File \"C:\\ProgramData\\Anaconda3\\envs\\stage\\lib\\site-packages\\brian2\\groups\\group.py\", line 741, in resolve_all\n    resolved[identifier] = self._resolve(identifier,\n  File \"C:\\ProgramData\\Anaconda3\\envs\\stage\\lib\\site-packages\\brian2\\groups\\group.py\", line 701, in _resolve\n    return self._resolve_external(identifier, run_namespace=run_namespace)\n  File \"C:\\ProgramData\\Anaconda3\\envs\\stage\\lib\\site-packages\\brian2\\groups\\group.py\", line 825, in _resolve_external\n    raise KeyError(error_msg)\nKeyError: 'The identifier \"inj_input\" could not be resolved.'\n\nError encountered with object named \"neurongroup\".\nObject was created here (most recent call only, full details in debug log):\n  File \"C:\\Users\\laure\\OneDrive\\Documenten\\Organisatie\\Stage\\NeuralNetworks\\models\\currentmodel.py\", line 64, in make_model\n    neuron = b2.NeuronGroup(self.amount, model=eqs + eqs_input, method='exponential_euler',\n\nAn error occurred when preparing an object. KeyError: 'The identifier \"inj_input\" could not be resolved.'\n(See above for original error message and traceback.)"
     ]
    }
   ],
   "source": [
    "#The feedforward simulation\n",
    "start_scope()\n",
    "\n",
    "PC = Barrel_PC(dt=dt)\n",
    "PC2 = Barrel_PC(dt=dt)\n",
    "IN = Barrel_IN(dt=dt)\n",
    "\n",
    "PC_neuron2 = PC2.getNeurongroup()\n",
    "PC_neuron = PC.getNeurongroup()\n",
    "IN_neuron = IN.getNeurongroup()\n",
    "\n",
    "param = PC.getNamespace().update(IN.getNamespace())                                \n",
    "syn = Synapses(PC_neuron, IN_neuron, model = 'w : 1', on_pre='''v += w*mV''', namespace = param)\n",
    "syn.connect()\n",
    "syn.w = 10\n",
    "\n",
    "syn_backward = Synapses(IN_neuron, PC_neuron, model = 'w:1', on_pre='''v += w*mV''', namespace = param )\n",
    "syn_backward.connect()\n",
    "\n",
    "PC_M2 = StateMonitor(PC_neuron2, 'v', record=True)                                \n",
    "PC_M = StateMonitor(PC_neuron, 'v', record=True)\n",
    "IN_M = StateMonitor(IN_neuron, 'v', record=True)\n",
    "\n",
    "PC_S2 = SpikeMonitor(PC_neuron2)                                \n",
    "PC_S = SpikeMonitor(PC_neuron)\n",
    "IN_S = SpikeMonitor(IN_neuron)\n",
    "\n",
    "df = pd.DataFrame()\n",
    "#setting the dataframe\n",
    "weigths = [-0.5,-10,-50,-200]\n",
    "\n",
    "store()\n",
    "for weigth in weigths: \n",
    "    restore()\n",
    "    \n",
    "    syn_backward.w = [weigth]\n",
    "    run(duration*ms)\n",
    "    \n",
    "    IN_spike  = make_spiketrain(IN_S,duration,dt)\n",
    "    PC_spike  = make_spiketrain(PC_S,duration,dt)\n",
    "    PC_spike2 = make_spiketrain(PC_S2, duration, dt)\n",
    "    \n",
    "    result_PC  = analyze_exp('PC_post',ron_PC, roff_PC, hidden_state, input_theory, dt, 0, PC_spike)\n",
    "    result_IN  = analyze_exp('IN'     , ron_PC, roff_PC, hidden_state, input_theory, dt, 0, IN_spike)\n",
    "    result_PC2 = analyze_exp('PC_pre' , ron_PC, roff_PC, hidden_state, input_theory, dt, 0, PC_spike2)\n",
    "    \n",
    "    frames = [df,result_PC, result_IN, result_PC2]\n",
    "    df = pd.concat(frames)\n",
    "    "
   ]
  },
  {
   "cell_type": "code",
   "execution_count": null,
   "metadata": {},
   "outputs": [],
   "source": [
    "df"
   ]
  },
  {
   "cell_type": "code",
   "execution_count": null,
   "metadata": {},
   "outputs": [],
   "source": []
  },
  {
   "cell_type": "code",
   "execution_count": null,
   "metadata": {},
   "outputs": [],
   "source": []
  }
 ],
 "metadata": {
  "kernelspec": {
   "display_name": "Python 3 (ipykernel)",
   "language": "python",
   "name": "python3"
  },
  "language_info": {
   "codemirror_mode": {
    "name": "ipython",
    "version": 3
   },
   "file_extension": ".py",
   "mimetype": "text/x-python",
   "name": "python",
   "nbconvert_exporter": "python",
   "pygments_lexer": "ipython3",
   "version": "3.8.13"
  }
 },
 "nbformat": 4,
 "nbformat_minor": 1
}
