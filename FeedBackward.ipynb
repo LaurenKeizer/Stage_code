{
 "cells": [
  {
   "cell_type": "code",
   "execution_count": 11,
   "metadata": {
    "pycharm": {
     "name": "#%%\n"
    }
   },
   "outputs": [],
   "source": [
    "from foundations.helpers import scale_input_theory\n",
    "from brian2 import *\n",
    "from foundations.helpers import scale_to_freq\n",
    "from foundations.make_dynamic_experiments import make_dynamic_experiments\n",
    "import numpy as np\n",
    "import matplotlib.pyplot as plt\n",
    "import pandas as pd\n",
    "from models.currentmodel import Barrel_PC, Barrel_IN\n",
    "%matplotlib inline"
   ]
  },
  {
   "cell_type": "code",
   "execution_count": 9,
   "metadata": {
    "pycharm": {
     "name": "#%%\n"
    }
   },
   "outputs": [],
   "source": [
    "#parameters setting \n",
    "#TODO: set these parameters in a file\n",
    "baseline = 0\n",
    "theta = 0\n",
    "factor_ron_roff = 2\n",
    "tau_PC = 250\n",
    "ron_PC = 1./(tau_PC*(1+factor_ron_roff))\n",
    "roff_PC = factor_ron_roff*ron_PC\n",
    "mean_firing_rate_PC = (0.1)/1000\n",
    "duration_PC = 100000\n",
    "tau_IN = 50\n",
    "ron_IN = 1./(tau_IN*(1+factor_ron_roff))\n",
    "roff_IN = factor_ron_roff*ron_IN\n",
    "mean_firing_rate_IN = (0.5)/1000\n",
    "duration_IN = 20000\n",
    "sampling_rate = 5\n",
    "dt = 1/sampling_rate\n",
    "qon_qoff_type = 'balanced'\n",
    "Er_exc, Er_inh = (0, -75)\n",
    "target_PC = 1.4233\n",
    "target_IN = 6.6397\n",
    "on_off_ratio = 1.5\n",
    "scale_list = np.append([1], np.arange(2.5, 302.5, 2.5))\n",
    "scales = {'CC_PC':19, 'DC_PC':30, 'CC_IN':17, 'DC_IN':6}\n",
    "N_runs = 1\n",
    "defaultclock.dt = dt*ms\n",
    "PC_i = 35\n",
    "IN_i = 11"
   ]
  },
  {
   "cell_type": "code",
   "execution_count": 10,
   "metadata": {
    "pycharm": {
     "name": "#%%\n"
    }
   },
   "outputs": [],
   "source": [
    "#Getting the input\n",
    "[input_theory, dynamic_theory, hidden_state] = make_dynamic_experiments(qon_qoff_type, baseline, tau_PC, factor_ron_roff, mean_firing_rate_PC, sampling_rate, duration_PC)\n",
    "inj_input = scale_input_theory(input_theory, 'current', 0, scales['CC_IN'], dt)"
   ]
  },
  {
   "cell_type": "code",
   "execution_count": null,
   "metadata": {
    "pycharm": {
     "name": "#%%\n"
    }
   },
   "outputs": [],
   "source": [
    "start_scope()\n",
    "#Initialising the neuron classes\n",
    "PC = Barrel_PC(dt=dt)\n",
    "IN = Barrel_IN(dt=dt, input = False) #making a Interneuron without input\n",
    "#Getting the neurongroups\n",
    "PC_neuron = PC.getNeurongroup()\n",
    "IN_neuron = IN.getNeurongroup()\n",
    "#adding the neurons to the network\n",
    "net = Network(PC_neuron, IN_neuron)\n",
    "#getting the statemonitors from befor the connection \n",
    "pre_PC_M = StateMonitor(PC_neuron, 'v', record=True)\n",
    "IN_M = StateMonitor(IN_neuron, 'v', record=True)\n",
    "net.add(pre_PC_M, IN_M)\n",
    "#making the synapse\n",
    "\n",
    "param = PC.getNamespace().update(IN.getNamespace()) #getting all the parameters for in the synapse\n",
    "syn = Synapses(IN_neuron, PC_neuron, on_pre='''v_post += 0.5*mV''', namespace = param)\n",
    "\n",
    "syn.connect()\n",
    "\n",
    "post_PC_M = StateMonitor(PC_neuron, 'v', record=True)\n",
    "net.add(syn, post_PC_M)\n",
    "\n",
    "run(1*second)"
   ]
  }
 ],
 "metadata": {
  "kernelspec": {
   "display_name": "Python 3 (ipykernel)",
   "language": "python",
   "name": "python3"
  },
  "language_info": {
   "codemirror_mode": {
    "name": "ipython",
    "version": 3
   },
   "file_extension": ".py",
   "mimetype": "text/x-python",
   "name": "python",
   "nbconvert_exporter": "python",
   "pygments_lexer": "ipython3",
   "version": "3.8.13"
  }
 },
 "nbformat": 4,
 "nbformat_minor": 1
}