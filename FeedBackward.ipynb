{
 "cells": [
  {
   "cell_type": "code",
   "execution_count": 27,
   "metadata": {
    "pycharm": {
     "name": "#%%\n"
    }
   },
   "outputs": [],
   "source": [
    "from foundations.helpers import scale_input_theory\n",
    "from brian2 import *\n",
    "from foundations.helpers import scale_to_freq\n",
    "from foundations.make_dynamic_experiments import make_dynamic_experiments\n",
    "import numpy as np\n",
    "import matplotlib.pyplot as plt\n",
    "import pandas as pd\n",
    "from models.currentmodel import Barrel_PC, Barrel_IN\n",
    "from foundations.MI_calculations import analyze_exp\n",
    "from foundations.helpers import make_spiketrain\n",
    "%matplotlib inline"
   ]
  },
  {
   "cell_type": "code",
   "execution_count": 28,
   "metadata": {
    "pycharm": {
     "name": "#%%\n"
    }
   },
   "outputs": [],
   "source": [
    "qon_qoff_type = 'balanced'\n",
    "baseline = 0  \n",
    "theta = 0     \n",
    "factor_ron_roff = 2    \n",
    "tau_PC = 200\n",
    "ron_PC = 1./(tau_PC*(1+factor_ron_roff))\n",
    "roff_PC = factor_ron_roff*ron_PC\n",
    "mean_firing_rate = (0.1)/1000\n",
    "duration = 100000\n",
    "duration2 = 1000\n",
    "sampling_rate = 5   \n",
    "scales = {'CC_PC':19, 'DC_PC':30, 'CC_IN':17, 'DC_IN':6}\n",
    "dt = 1/sampling_rate \n",
    "defaultclock.dt = dt*ms\n",
    "on_off_ratio = 1.5\n",
    "target_PC = 1.4233\n",
    "scale_list = np.append([1], np.arange(2.5, 302.5, 2.5))"
   ]
  },
  {
   "cell_type": "code",
   "execution_count": null,
   "outputs": [],
   "source": [
    "#Getting the input, generating the same one for both pyramidal cell and interneuron\n",
    "#also doing the scaling the same\n",
    "[input_theory, dynamic_theory, hidden_state] = make_dynamic_experiments(qon_qoff_type, baseline, tau_PC, factor_ron_roff, mean_firing_rate, sampling_rate, duration2)\n",
    "inj_input = scale_input_theory(input_theory, 'current', 0, 18, dt)"
   ],
   "metadata": {
    "collapsed": false,
    "pycharm": {
     "name": "#%%\n"
    }
   }
  },
  {
   "cell_type": "code",
   "execution_count": null,
   "outputs": [],
   "source": [
    "#The feedforward simulation\n",
    "start_scope()\n",
    "\n",
    "\n",
    "PC = Barrel_PC(dt=dt)\n",
    "PC2 = Barrel_PC(dt=dt)\n",
    "IN = Barrel_IN(dt=dt, Input = False)\n",
    "\n",
    "PC_neuron2 = PC2.getNeurongroup()\n",
    "PC_neuron = PC.getNeurongroup()\n",
    "IN_neuron = IN.getNeurongroup()\n",
    "\n",
    "param = PC.getNamespace().update(IN.getNamespace())                                \n",
    "syn_forward = Synapses(PC_neuron, IN_neuron, on_pre='''v += 50*mV''', namespace = param)\n",
    "syn_forward.connect()\n",
    "\n",
    "syn_backward = Synapses(IN_neuron, PC_neuron, delay = 0.01*ms, on_pre='''v += -50*mV''', namespace = param )\n",
    "syn_backward.connect()\n",
    "\n",
    "PC_M2 = StateMonitor(PC_neuron2, 'v', record=True)                                \n",
    "PC_M = StateMonitor(PC_neuron, 'v', record=True)\n",
    "IN_M = StateMonitor(IN_neuron, 'v', record=True)\n",
    "\n",
    "PC_S2 = SpikeMonitor(PC_neuron2)                                \n",
    "PC_S = SpikeMonitor(PC_neuron)\n",
    "IN_S = SpikeMonitor(IN_neuron)\n",
    "\n",
    "                                 \n",
    "run(duration2*ms)"
   ],
   "metadata": {
    "collapsed": false,
    "pycharm": {
     "name": "#%%\n"
    }
   }
  },
  {
   "cell_type": "code",
   "execution_count": null,
   "outputs": [],
   "source": [
    "figure(figsize=(10, 10))\n",
    "subplot(221)\n",
    "plot(PC_M2.t/ms, PC_M2.v[0], label='pre_PC')\n",
    "legend()\n",
    "\n",
    "subplot(222)\n",
    "plot(IN_M.t/ms, IN_M.v[0], label=\"pre_IN\")\n",
    "legend()\n",
    "\n",
    "\n",
    "subplot(223)\n",
    "plot(PC_M.t/ms, PC_M.v[0], label='post_PC')\n",
    "legend()\n",
    "\n",
    "subplot(224)\n",
    "plot(PC_M.t/ms, PC_M.v[0], label=\"post_PC\")\n",
    "legend()\n",
    "xlabel('Time (ms)');"
   ],
   "metadata": {
    "collapsed": false,
    "pycharm": {
     "name": "#%%\n"
    }
   }
  },
  {
   "cell_type": "code",
   "execution_count": null,
   "outputs": [],
   "source": [
    "figure(figsize=(10, 4))\n",
    "subplot(311)\n",
    "plot(PC_M2.t/ms, PC_M2.v[0], label='pre_PC')\n",
    "legend()\n",
    "subplot(312)\n",
    "plot(IN_M.t/ms, IN_M.v[0], label=\"pre_IN\")\n",
    "legend()\n",
    "subplot(313)\n",
    "plot(PC_M.t/ms, PC_M.v[0], label=\"post_PC\")\n",
    "legend()"
   ],
   "metadata": {
    "collapsed": false,
    "pycharm": {
     "name": "#%%\n"
    }
   }
  },
  {
   "cell_type": "markdown",
   "source": [
    "## Estimating parameters"
   ],
   "metadata": {
    "collapsed": false,
    "pycharm": {
     "name": "#%% md\n"
    }
   }
  },
  {
   "cell_type": "code",
   "execution_count": null,
   "outputs": [],
   "source": [
    "#The feedforward simulation\n",
    "start_scope()\n",
    "\n",
    "PC = Barrel_PC(dt=dt)\n",
    "PC2 = Barrel_PC(dt=dt)\n",
    "IN = Barrel_IN(dt=dt)\n",
    "\n",
    "PC_neuron2 = PC2.getNeurongroup()\n",
    "PC_neuron = PC.getNeurongroup()\n",
    "IN_neuron = IN.getNeurongroup()\n",
    "\n",
    "param = PC.getNamespace().update(IN.getNamespace())                                \n",
    "syn = Synapses(PC_neuron, IN_neuron, model = 'w : 1', on_pre='''v += w*mV''', namespace = param)\n",
    "syn.connect()\n",
    "syn.w = 10\n",
    "\n",
    "syn_backward = Synapses(IN_neuron, PC_neuron, model = 'w:1', on_pre='''v += w*mV''', namespace = param )\n",
    "syn_backward.connect()\n",
    "\n",
    "PC_M2 = StateMonitor(PC_neuron2, 'v', record=True)                                \n",
    "PC_M = StateMonitor(PC_neuron, 'v', record=True)\n",
    "IN_M = StateMonitor(IN_neuron, 'v', record=True)\n",
    "\n",
    "PC_S2 = SpikeMonitor(PC_neuron2)                                \n",
    "PC_S = SpikeMonitor(PC_neuron)\n",
    "IN_S = SpikeMonitor(IN_neuron)\n",
    "\n",
    "df = pd.DataFrame()\n",
    "#setting the dataframe\n",
    "weigths = [-0.5,-10,-50,-200]\n",
    "\n",
    "store()\n",
    "for weigth in weigths: \n",
    "    restore()\n",
    "    \n",
    "    syn_backward.w = [weigth]\n",
    "    run(duration*ms)\n",
    "    \n",
    "    IN_spike  = make_spiketrain(IN_S,duration,dt)\n",
    "    PC_spike  = make_spiketrain(PC_S,duration,dt)\n",
    "    PC_spike2 = make_spiketrain(PC_S2, duration, dt)\n",
    "    \n",
    "    result_PC  = analyze_exp('PC_post',ron_PC, roff_PC, hidden_state, input_theory, dt, 0, PC_spike)\n",
    "    result_IN  = analyze_exp('IN'     , ron_PC, roff_PC, hidden_state, input_theory, dt, 0, IN_spike)\n",
    "    result_PC2 = analyze_exp('PC_pre' , ron_PC, roff_PC, hidden_state, input_theory, dt, 0, PC_spike2)\n",
    "    \n",
    "    frames = [df,result_PC, result_IN, result_PC2]\n",
    "    df = pd.concat(frames)\n",
    "    "
   ],
   "metadata": {
    "collapsed": false,
    "pycharm": {
     "name": "#%%\n"
    }
   }
  },
  {
   "cell_type": "code",
   "execution_count": null,
   "outputs": [],
   "source": [
    "df"
   ],
   "metadata": {
    "collapsed": false,
    "pycharm": {
     "name": "#%%\n"
    }
   }
  }
 ],
 "metadata": {
  "kernelspec": {
   "display_name": "Python 3 (ipykernel)",
   "language": "python",
   "name": "python3"
  },
  "language_info": {
   "codemirror_mode": {
    "name": "ipython",
    "version": 3
   },
   "file_extension": ".py",
   "mimetype": "text/x-python",
   "name": "python",
   "nbconvert_exporter": "python",
   "pygments_lexer": "ipython3",
   "version": "3.8.13"
  }
 },
 "nbformat": 4,
 "nbformat_minor": 1
}