{
 "cells": [
  {
   "cell_type": "markdown",
   "metadata": {
    "pycharm": {
     "name": "#%% md\n"
    }
   },
   "source": [
    "## This is the feedforward neuronal model"
   ]
  },
  {
   "cell_type": "code",
   "execution_count": 1,
   "metadata": {
    "pycharm": {
     "name": "#%%\n"
    }
   },
   "outputs": [
    {
     "name": "stderr",
     "output_type": "stream",
     "text": [
      "INFO       Cache size for target \"cython\": 1155 MB.\n",
      "You can call \"clear_cache('cython')\" to delete all files from the cache or manually delete files in the \"C:\\Users\\laure\\.cython\\brian_extensions\" directory. [brian2]\n"
     ]
    },
    {
     "ename": "ModuleNotFoundError",
     "evalue": "No module named 'foundations.MI_calculations'",
     "output_type": "error",
     "traceback": [
      "\u001B[1;31m---------------------------------------------------------------------------\u001B[0m",
      "\u001B[1;31mModuleNotFoundError\u001B[0m                       Traceback (most recent call last)",
      "Input \u001B[1;32mIn [1]\u001B[0m, in \u001B[0;36m<cell line: 9>\u001B[1;34m()\u001B[0m\n\u001B[0;32m      7\u001B[0m \u001B[38;5;28;01mimport\u001B[39;00m \u001B[38;5;21;01mpandas\u001B[39;00m \u001B[38;5;28;01mas\u001B[39;00m \u001B[38;5;21;01mpd\u001B[39;00m\n\u001B[0;32m      8\u001B[0m \u001B[38;5;28;01mfrom\u001B[39;00m \u001B[38;5;21;01mmodels\u001B[39;00m\u001B[38;5;21;01m.\u001B[39;00m\u001B[38;5;21;01mcurrentmodel\u001B[39;00m \u001B[38;5;28;01mimport\u001B[39;00m Barrel_PC, Barrel_IN\n\u001B[1;32m----> 9\u001B[0m \u001B[38;5;28;01mfrom\u001B[39;00m \u001B[38;5;21;01mfoundations\u001B[39;00m\u001B[38;5;21;01m.\u001B[39;00m\u001B[38;5;21;01mMI_calculations\u001B[39;00m \u001B[38;5;28;01mimport\u001B[39;00m analyze_exp\n\u001B[0;32m     10\u001B[0m \u001B[38;5;28;01mfrom\u001B[39;00m \u001B[38;5;21;01mfoundations\u001B[39;00m\u001B[38;5;21;01m.\u001B[39;00m\u001B[38;5;21;01mhelpers\u001B[39;00m \u001B[38;5;28;01mimport\u001B[39;00m make_spiketrain\n\u001B[0;32m     11\u001B[0m get_ipython()\u001B[38;5;241m.\u001B[39mrun_line_magic(\u001B[38;5;124m'\u001B[39m\u001B[38;5;124mmatplotlib\u001B[39m\u001B[38;5;124m'\u001B[39m, \u001B[38;5;124m'\u001B[39m\u001B[38;5;124minline\u001B[39m\u001B[38;5;124m'\u001B[39m)\n",
      "\u001B[1;31mModuleNotFoundError\u001B[0m: No module named 'foundations.MI_calculations'"
     ]
    }
   ],
   "source": [
    "from foundations.helpers import scale_input_theory\n",
    "from brian2 import *\n",
    "from foundations.helpers import scale_to_freq\n",
    "from foundations.make_dynamic_experiments import make_dynamic_experiments\n",
    "import numpy as np\n",
    "import matplotlib.pyplot as plt\n",
    "import pandas as pd\n",
    "from models.currentmodel import Barrel_PC, Barrel_IN\n",
    "from foundations.MI_calculations import analyze_exp\n",
    "from foundations.helpers import make_spiketrain\n",
    "%matplotlib inline"
   ]
  },
  {
   "cell_type": "code",
   "execution_count": null,
   "outputs": [],
   "source": [],
   "metadata": {
    "collapsed": false,
    "pycharm": {
     "name": "#%%\n"
    }
   }
  },
  {
   "cell_type": "code",
   "execution_count": 8,
   "metadata": {
    "pycharm": {
     "name": "#%%\n"
    }
   },
   "outputs": [],
   "source": [
    "#parameters setting \n",
    "#TODO: set these parameters in a file\n",
    "baseline = 0\n",
    "theta = 0\n",
    "factor_ron_roff = 2\n",
    "tau_PC = 250\n",
    "ron_PC = 1./(tau_PC*(1+factor_ron_roff))\n",
    "roff_PC = factor_ron_roff*ron_PC\n",
    "mean_firing_rate_PC = (0.1)/1000\n",
    "duration = 100000\n",
    "tau_IN = 50\n",
    "ron_IN = 1./(tau_IN*(1+factor_ron_roff))\n",
    "roff_IN = factor_ron_roff*ron_IN\n",
    "mean_firing_rate_IN = (0.5)/1000\n",
    "sampling_rate = 5\n",
    "dt = 1/sampling_rate\n",
    "qon_qoff_type = 'balanced'\n",
    "Er_exc, Er_inh = (0, -75)\n",
    "target_PC = 1.4233\n",
    "target_IN = 6.6397\n",
    "on_off_ratio = 1.5\n",
    "scale_list = np.append([1], np.arange(2.5, 302.5, 2.5))\n",
    "scales = {'CC_PC':19, 'DC_PC':30, 'CC_IN':17, 'DC_IN':6}\n",
    "N_runs = 1\n",
    "defaultclock.dt = dt*ms\n",
    "PC_i = 35\n",
    "IN_i = 11"
   ]
  },
  {
   "cell_type": "code",
   "execution_count": 9,
   "metadata": {
    "pycharm": {
     "name": "#%%\n"
    }
   },
   "outputs": [],
   "source": [
    "#Getting the input\n",
    "[input_theory, dynamic_theory, hidden_state] = make_dynamic_experiments(qon_qoff_type, baseline, tau_PC, factor_ron_roff, mean_firing_rate_PC, sampling_rate, duration)\n",
    "inp = [scale_input_theory(input_theory, 'current', 0, scales['CC_PC'], dt),scale_input_theory(input_theory, 'current', 0, scales['CC_PC'], dt)]"
   ]
  },
  {
   "cell_type": "code",
   "execution_count": 10,
   "metadata": {
    "pycharm": {
     "name": "#%%\n"
    }
   },
   "outputs": [
    {
     "ename": "NameError",
     "evalue": "name 'param' is not defined",
     "output_type": "error",
     "traceback": [
      "\u001B[1;31m---------------------------------------------------------------------------\u001B[0m",
      "\u001B[1;31mNameError\u001B[0m                                 Traceback (most recent call last)",
      "Input \u001B[1;32mIn [10]\u001B[0m, in \u001B[0;36m<cell line: 12>\u001B[1;34m()\u001B[0m\n\u001B[0;32m      9\u001B[0m PC_neuron \u001B[38;5;241m=\u001B[39m PC\u001B[38;5;241m.\u001B[39mgetNeurongroup()\n\u001B[0;32m     10\u001B[0m IN_neuron \u001B[38;5;241m=\u001B[39m IN\u001B[38;5;241m.\u001B[39mgetNeurongroup()\n\u001B[1;32m---> 12\u001B[0m syn \u001B[38;5;241m=\u001B[39m Synapses(IN_neuron, PC_neuron, on_pre\u001B[38;5;241m=\u001B[39m\u001B[38;5;124m'''\u001B[39m\u001B[38;5;124mv += 10*mV\u001B[39m\u001B[38;5;124m'''\u001B[39m, namespace \u001B[38;5;241m=\u001B[39m \u001B[43mparam\u001B[49m)\n\u001B[0;32m     13\u001B[0m syn\u001B[38;5;241m.\u001B[39mconnect(i\u001B[38;5;241m=\u001B[39m\u001B[38;5;241m0\u001B[39m, j\u001B[38;5;241m=\u001B[39m\u001B[38;5;241m0\u001B[39m)\n\u001B[0;32m     15\u001B[0m PC_M \u001B[38;5;241m=\u001B[39m StateMonitor(PC_neuron, \u001B[38;5;124m'\u001B[39m\u001B[38;5;124mv\u001B[39m\u001B[38;5;124m'\u001B[39m, record\u001B[38;5;241m=\u001B[39m\u001B[38;5;28;01mTrue\u001B[39;00m)\n",
      "\u001B[1;31mNameError\u001B[0m: name 'param' is not defined"
     ]
    }
   ],
   "source": [
    "#This one is for the difference in view\n",
    "start_scope()\n",
    "\n",
    "inj_input = inp[0]\n",
    "PC = Barrel_PC(dt=dt, amount = 2)\n",
    "inj_input = inp[1]\n",
    "IN = Barrel_IN(dt=dt)\n",
    "\n",
    "PC_neuron = PC.getNeurongroup()\n",
    "IN_neuron = IN.getNeurongroup()\n",
    "\n",
    "syn = Synapses(IN_neuron, PC_neuron, on_pre='''v += 10*mV''', namespace = param)\n",
    "syn.connect(i=0, j=0)\n",
    "\n",
    "PC_M = StateMonitor(PC_neuron, 'v', record=True)\n",
    "IN_M = StateMonitor(IN_neuron, 'v', record=True)\n",
    "run(duration*ms)"
   ]
  },
  {
   "cell_type": "code",
   "execution_count": null,
   "metadata": {
    "pycharm": {
     "name": "#%%\n"
    }
   },
   "outputs": [],
   "source": [
    "figure(figsize=(4, 8))\n",
    "subplot(211)\n",
    "plot(PC_M.t/ms, PC_M.v[1], label='pre_PC')\n",
    "plot(IN_M.t/ms, IN_M.v[0], label=\"pre_IN\")\n",
    "legend()\n",
    "\n",
    "subplot(212)\n",
    "plot(PC_M.t/ms, PC_M.v[1], label='pre_PC')\n",
    "plot(PC_M.t/ms, PC_M.v[0], label=\"post_PC\")\n",
    "legend(loc='best')\n",
    "xlabel('Time (ms)');"
   ]
  },
  {
   "cell_type": "code",
   "execution_count": null,
   "metadata": {
    "pycharm": {
     "name": "#%%\n"
    }
   },
   "outputs": [],
   "source": [
    "#This one is for the result and the SpikeMonitor\n",
    "start_scope()\n",
    "\n",
    "inj_input = inp[0]\n",
    "PC = Barrel_PC(dt=dt)\n",
    "inj_input = inp[1]\n",
    "IN = Barrel_IN(dt=dt)\n",
    "\n",
    "PC_neuron = PC.getNeurongroup()\n",
    "IN_neuron = IN.getNeurongroup()\n",
    "\n",
    "syn = Synapses(IN_neuron, PC_neuron, on_pre='''v += 10*mV''', namespace = param)\n",
    "syn.connect(i=0, j=0)\n",
    "\n",
    "PC_M = StateMonitor(PC_neuron, 'v', record=syn)\n",
    "IN_M = StateMonitor(IN_neuron, 'v', record=True)\n",
    "\n",
    "PC_S = SpikeMonitor(PC_neuron)\n",
    "IN_S = SpikeMonitor(IN_neuron)\n",
    "\n",
    "run(duration*ms)"
   ]
  },
  {
   "cell_type": "code",
   "execution_count": null,
   "metadata": {
    "pycharm": {
     "name": "#%%\n"
    }
   },
   "outputs": [],
   "source": [
    "IN_spike = make_spiketrain(IN_S,duration,dt)\n",
    "PC_spike = make_spiketrain(PC_S,duration,dt)"
   ]
  },
  {
   "cell_type": "code",
   "execution_count": null,
   "metadata": {
    "pycharm": {
     "name": "#%%\n"
    }
   },
   "outputs": [],
   "source": [
    "result_PC = analyze_exp(ron_PC, roff_PC, hidden_state, input_theory, dt, 0, PC_spike)"
   ]
  },
  {
   "cell_type": "code",
   "execution_count": null,
   "metadata": {
    "pycharm": {
     "name": "#%%\n"
    }
   },
   "outputs": [],
   "source": [
    "result_PC"
   ]
  },
  {
   "cell_type": "code",
   "execution_count": 34,
   "metadata": {
    "pycharm": {
     "name": "#%%\n"
    }
   },
   "outputs": [],
   "source": [
    "result_PC = analyze_exp(ron_PC, roff_PC, hidden_state, input_theory, dt, 0, PC_spike)"
   ]
  },
  {
   "cell_type": "code",
   "execution_count": 5,
   "metadata": {
    "pycharm": {
     "name": "#%%\n"
    }
   },
   "outputs": [
    {
     "ename": "NameError",
     "evalue": "name 'result_PC' is not defined",
     "output_type": "error",
     "traceback": [
      "\u001B[1;31m---------------------------------------------------------------------------\u001B[0m",
      "\u001B[1;31mNameError\u001B[0m                                 Traceback (most recent call last)",
      "Input \u001B[1;32mIn [5]\u001B[0m, in \u001B[0;36m<cell line: 1>\u001B[1;34m()\u001B[0m\n\u001B[1;32m----> 1\u001B[0m \u001B[43mresult_PC\u001B[49m\u001B[38;5;241m.\u001B[39mMI_i\n",
      "\u001B[1;31mNameError\u001B[0m: name 'result_PC' is not defined"
     ]
    }
   ],
   "source": [
    "result_PC.MI"
   ]
  },
  {
   "cell_type": "code",
   "execution_count": null,
   "metadata": {
    "pycharm": {
     "name": "#%%\n"
    }
   },
   "outputs": [],
   "source": [
    "R"
   ]
  },
  {
   "cell_type": "code",
   "execution_count": null,
   "metadata": {
    "pycharm": {
     "name": "#%%\n"
    }
   },
   "outputs": [],
   "source": [
    "figure(figsize=(4, 8))\n",
    "subplot(211)\n",
    "plot(PC_M.t/ms, PC_M.v[1], label='pre_PC')\n",
    "plot(IN_M.t/ms, IN_M.v[0], label=\"pre_IN\")\n",
    "legend()\n",
    "\n",
    "subplot(212)\n",
    "plot(PC_M.t/ms, PC_M.v[1], label='pre_PC')\n",
    "plot(PC_M.t/ms, PC_M.v[0], label=\"post_PC\")\n",
    "legend(loc='best')\n",
    "xlabel('Time (ms)');"
   ]
  },
  {
   "cell_type": "code",
   "execution_count": 5,
   "metadata": {
    "pycharm": {
     "name": "#%%\n"
    }
   },
   "outputs": [],
   "source": [
    "start_scope()\n",
    "net = Network()\n",
    "\n",
    "#Initialising the neuron classes\n",
    "PC = Barrel_PC(dt=dt)\n",
    "IN = Barrel_IN(dt=dt)\n",
    "#Getting the neurongroups\n",
    "PC_neuron = PC.getNeurongroup()\n",
    "PC_neuron_ref = PC.getNeurongroup() #making a reference neuron \n",
    "IN_neuron = IN.getNeurongroup()\n",
    "#adding the neurons to the network\n",
    "net.add(PC_neuron, IN_neuron, PC_neuron_ref)\n",
    "\n",
    "#getting the statemonitors from befor the connection \n",
    "PC_M_ref = StateMonitor(PC_neuron_ref, 'v', record=True)\n",
    "IN_M = StateMonitor(IN_neuron, 'v', record=True)\n",
    "net.add(PC_M_ref, IN_M)\n",
    "#making the synapse\n",
    "\n",
    "param = PC.getNamespace().update(IN.getNamespace()) #getting all the parameters for in the synapse\n",
    "syn = Synapses(IN_neuron, PC_neuron, on_pre='''v += 10*mV''', namespace = param)\n",
    "\n",
    "syn.connect()\n",
    "\n",
    "PC_M = StateMonitor(PC_neuron, 'v', record=syn)\n",
    "net.add(syn, PC_M)\n",
    "\n",
    "run(1*second)\n"
   ]
  },
  {
   "cell_type": "code",
   "execution_count": null,
   "metadata": {
    "pycharm": {
     "name": "#%%\n"
    }
   },
   "outputs": [],
   "source": [
    "figure(figsize=(4, 8))\n",
    "subplot(211)\n",
    "plot(PC_M_ref.t/ms, PC_M_ref.v[0], label='pre_PC')\n",
    "plot(IN_M.t/ms, IN_M.v[0], label=\"pre_IN\")\n",
    "legend()\n",
    "\n",
    "subplot(212)\n",
    "plot(PC_M_ref.t/ms, PC_M_ref.v[0], label='pre_PC')\n",
    "plot(PC_M.t/ms, PC_M.v[0], label=\"post_PC\")\n",
    "legend(loc='best')\n",
    "xlabel('Time (ms)');"
   ]
  },
  {
   "cell_type": "code",
   "execution_count": null,
   "metadata": {
    "pycharm": {
     "name": "#%%\n"
    }
   },
   "outputs": [],
   "source": [
    "figure(figsize=(4, 8))\n",
    "subplot(211)\n",
    "plot(PC_M_ref.t/ms, PC_M_ref.v[0], label='pre_PC')\n",
    "plot(IN_M.t/ms, IN_M.v[0], label=\"pre_IN\")\n",
    "legend()\n",
    "\n",
    "subplot(212)\n",
    "plot(PC_M_ref.t/ms, PC_M_ref.v[0], label='pre_PC')\n",
    "plot(PC_M.t/ms, PC_M.v[0], label=\"post_PC\")\n",
    "legend(loc='best')\n",
    "xlabel('Time (ms)');"
   ]
  }
 ],
 "metadata": {
  "kernelspec": {
   "display_name": "Python 3 (ipykernel)",
   "language": "python",
   "name": "python3"
  },
  "language_info": {
   "codemirror_mode": {
    "name": "ipython",
    "version": 3
   },
   "file_extension": ".py",
   "mimetype": "text/x-python",
   "name": "python",
   "nbconvert_exporter": "python",
   "pygments_lexer": "ipython3",
   "version": "3.8.13"
  }
 },
 "nbformat": 4,
 "nbformat_minor": 1
}