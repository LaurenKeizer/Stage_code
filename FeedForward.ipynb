{
 "cells": [
  {
   "cell_type": "code",
   "execution_count": null,
   "outputs": [],
   "source": [
    "from foundations.helpers import scale_input_theory\n",
    "from brian2 import *\n",
    "import numpy as np\n",
    "import pandas as pd\n",
    "from models.currentmodel import Barrel_PC, Barrel_IN\n",
    "from foundations.MI_calculations import analyze_exp\n",
    "from foundations.helpers import make_spiketrain\n",
    "from foundations.helpers import scale_to_freq\n",
    "from foundations.make_dynamic_experiments import make_dynamic_experiments\n",
    "%matplotlib inline"
   ],
   "metadata": {
    "collapsed": false,
    "pycharm": {
     "name": "#%%\n"
    }
   }
  },
  {
   "cell_type": "code",
   "execution_count": null,
   "outputs": [],
   "source": [
    "qon_qoff_type = 'balanced'\n",
    "baseline = 0  \n",
    "theta = 0     \n",
    "factor_ron_roff = 2    \n",
    "tau_PC = 200\n",
    "ron_PC = 1./(tau_PC*(1+factor_ron_roff))\n",
    "roff_PC = factor_ron_roff*ron_PC\n",
    "mean_firing_rate = (0.1)/1000\n",
    "duration = 100000\n",
    "duration2 = 1000\n",
    "sampling_rate = 5   \n",
    "#scales = {'CC_PC':19, 'DC_PC':30, 'CC_IN':17, 'DC_IN':6}\n",
    "dt = 1/sampling_rate \n",
    "defaultclock.dt = dt*ms\n",
    "on_off_ratio = 1.5\n",
    "target_PC = 1.4233\n",
    "scale_list = np.append([1], np.arange(2.5, 302.5, 2.5))"
   ],
   "metadata": {
    "collapsed": false,
    "pycharm": {
     "name": "#%%\n"
    }
   }
  },
  {
   "cell_type": "code",
   "execution_count": null,
   "outputs": [],
   "source": [
    "#Getting the input, generating the same one for both pyramidal cell and interneuron\n",
    "#also doing the scaling the same\n",
    "[input_theory, dynamic_theory, hidden_state] = make_dynamic_experiments(qon_qoff_type, baseline, tau_PC, factor_ron_roff, mean_firing_rate, sampling_rate, duration2)\n",
    "inj_input = scale_input_theory(input_theory, 'current', 0, 17, dt)"
   ],
   "metadata": {
    "collapsed": false,
    "pycharm": {
     "name": "#%%\n"
    }
   }
  },
  {
   "cell_type": "markdown",
   "metadata": {
    "pycharm": {
     "name": "#%% md\n"
    }
   },
   "source": [
    "# The feedforward simulation"
   ]
  },
  {
   "cell_type": "code",
   "execution_count": null,
   "metadata": {
    "pycharm": {
     "name": "#%%\n"
    }
   },
   "outputs": [],
   "source": [
    "#The feedforward simulation\n",
    "start_scope()\n",
    "\n",
    "PC = Barrel_PC(dt=dt)\n",
    "PC2 = Barrel_PC(dt=dt)\n",
    "IN = Barrel_IN(dt=dt)\n",
    "\n",
    "PC_neuron2 = PC2.getNeurongroup()\n",
    "PC_neuron = PC.getNeurongroup()\n",
    "IN_neuron = IN.getNeurongroup()\n",
    "\n",
    "param = PC.getNamespace().update(IN.getNamespace())                                \n",
    "syn = Synapses(IN_neuron, PC_neuron, model = 'w : 1', on_pre='''v += w*mV''', namespace = param)\n",
    "syn.connect()\n",
    "syn.w = [-50]\n",
    "\n",
    "PC_M2 = StateMonitor(PC_neuron2, 'v', record=True)                                \n",
    "PC_M = StateMonitor(PC_neuron, 'v', record=True)\n",
    "IN_M = StateMonitor(IN_neuron, 'v', record=True)\n",
    "\n",
    "PC_S2 = SpikeMonitor(PC_neuron2)                                \n",
    "PC_S = SpikeMonitor(PC_neuron)\n",
    "IN_S = SpikeMonitor(IN_neuron)\n",
    "\n",
    "                                 \n",
    "run(duration2*ms)"
   ]
  },
  {
   "cell_type": "code",
   "execution_count": null,
   "metadata": {
    "pycharm": {
     "name": "#%%\n"
    }
   },
   "outputs": [],
   "source": [
    "figure(figsize=(10, 10))\n",
    "subplot(221)\n",
    "plot(PC_M2.t/ms, PC_M2.v[0], label='pre_PC')\n",
    "legend()\n",
    "\n",
    "subplot(222)\n",
    "plot(IN_M.t/ms, IN_M.v[0], label=\"pre_IN\")\n",
    "legend()\n",
    "\n",
    "\n",
    "subplot(223)\n",
    "plot(PC_M.t/ms, PC_M.v[0], label='post_PC')\n",
    "legend()\n",
    "\n",
    "subplot(224)\n",
    "plot(PC_M.t/ms, PC_M.v[0], label=\"post_PC\")\n",
    "legend()\n",
    "xlabel('Time (ms)');"
   ]
  },
  {
   "cell_type": "code",
   "execution_count": null,
   "metadata": {
    "pycharm": {
     "name": "#%%\n"
    }
   },
   "outputs": [],
   "source": [
    "figure(figsize=(10, 4))\n",
    "subplot(311)\n",
    "plot(PC_M2.t/ms, PC_M2.v[0], label='pre_PC', color = 'r')\n",
    "legend()\n",
    "subplot(312)\n",
    "plot(IN_M.t/ms, IN_M.v[0], label=\"pre_IN\", color = 'r')\n",
    "legend()\n",
    "subplot(313)\n",
    "plot(PC_M.t/ms, PC_M.v[0], label=\"post_PC\", color = 'r')\n",
    "legend()"
   ]
  },
  {
   "cell_type": "code",
   "execution_count": null,
   "metadata": {
    "pycharm": {
     "name": "#%%\n"
    }
   },
   "outputs": [],
   "source": [
    "#making the spike trains and doing the MI calculations\n",
    "IN_spike  = make_spiketrain(IN_S,duration,dt)\n",
    "PC_spike  = make_spiketrain(PC_S,duration,dt)\n",
    "PC_spike2 = make_spiketrain(PC_S2, duration, dt)"
   ]
  },
  {
   "cell_type": "code",
   "execution_count": null,
   "metadata": {
    "pycharm": {
     "name": "#%%\n"
    }
   },
   "outputs": [],
   "source": [
    "result_PC  = analyze_exp('PC_post',ron_PC, roff_PC, hidden_state, input_theory, dt, 0, PC_spike)\n",
    "result_IN  = analyze_exp('IN'     , ron_PC, roff_PC, hidden_state, input_theory, dt, 0, IN_spike)\n",
    "result_PC2 = analyze_exp('PC_pre' , ron_PC, roff_PC, hidden_state, input_theory, dt, 0, PC_spike2)"
   ]
  },
  {
   "cell_type": "markdown",
   "metadata": {
    "pycharm": {
     "name": "#%% md\n"
    }
   },
   "source": [
    "### Estimating parameters Feedforward"
   ]
  },
  {
   "cell_type": "code",
   "execution_count": null,
   "metadata": {
    "pycharm": {
     "name": "#%%\n"
    }
   },
   "outputs": [],
   "source": [
    "#The feedforward simulation\n",
    "start_scope()\n",
    "\n",
    "PC = Barrel_PC(dt=dt)\n",
    "PC2 = Barrel_PC(dt=dt)\n",
    "IN = Barrel_IN(dt=dt)\n",
    "\n",
    "PC_neuron2 = PC2.getNeurongroup()\n",
    "PC_neuron = PC.getNeurongroup()\n",
    "IN_neuron = IN.getNeurongroup()\n",
    "\n",
    "param = PC.getNamespace().update(IN.getNamespace())                                \n",
    "syn = Synapses(IN_neuron, PC_neuron, model = 'w : 1', on_pre='''v += w*mV''', namespace = param)\n",
    "syn.connect()\n",
    "\n",
    "PC_M2 = StateMonitor(PC_neuron2, 'v', record=True)                                \n",
    "PC_M = StateMonitor(PC_neuron, 'v', record=True)\n",
    "IN_M = StateMonitor(IN_neuron, 'v', record=True)\n",
    "\n",
    "PC_S2 = SpikeMonitor(PC_neuron2)                                \n",
    "PC_S = SpikeMonitor(PC_neuron)\n",
    "IN_S = SpikeMonitor(IN_neuron)\n",
    "df = pd.DataFrame()\n",
    "#setting the dataframe\n",
    "weigths = [-0.5,-10,-50,-200]\n",
    "\n",
    "store()\n",
    "for weigth in weigths: \n",
    "    restore()\n",
    "    \n",
    "    syn.w = [weigth]\n",
    "    run(duration*ms)\n",
    "    \n",
    "    IN_spike  = make_spiketrain(IN_S,duration,dt)\n",
    "    PC_spike  = make_spiketrain(PC_S,duration,dt)\n",
    "    PC_spike2 = make_spiketrain(PC_S2, duration, dt)\n",
    "    \n",
    "    result_PC  = analyze_exp('PC_post',ron_PC, roff_PC, hidden_state, input_theory, dt, 0, PC_spike)\n",
    "    result_IN  = analyze_exp('IN'     , ron_PC, roff_PC, hidden_state, input_theory, dt, 0, IN_spike)\n",
    "    result_PC2 = analyze_exp('PC_pre' , ron_PC, roff_PC, hidden_state, input_theory, dt, 0, PC_spike2)\n",
    "    \n",
    "    frames = [df,result_PC, result_IN, result_PC2]\n",
    "    df = pd.concat(frames)\n",
    "    "
   ]
  },
  {
   "cell_type": "code",
   "execution_count": null,
   "metadata": {
    "pycharm": {
     "name": "#%%\n"
    }
   },
   "outputs": [],
   "source": [
    "df"
   ]
  },
  {
   "cell_type": "code",
   "execution_count": null,
   "metadata": {
    "pycharm": {
     "name": "#%%\n"
    }
   },
   "outputs": [],
   "source": [
    "#The feedforward simulation\n",
    "start_scope()\n",
    "\n",
    "PC = Barrel_PC(dt=dt)\n",
    "PC2 = Barrel_PC(dt=dt)\n",
    "IN = Barrel_IN(dt=dt)\n",
    "\n",
    "PC_neuron2 = PC2.getNeurongroup()\n",
    "PC_neuron = PC.getNeurongroup()\n",
    "IN_neuron = IN.getNeurongroup()\n",
    "\n",
    "param = PC.getNamespace().update(IN.getNamespace())                                \n",
    "syn = Synapses(IN_neuron, PC_neuron, model = 'w : 1', on_pre='''v += w*mV''', namespace = param)\n",
    "syn.connect()\n",
    "\n",
    "PC_M2 = StateMonitor(PC_neuron2, 'v', record=True)                                \n",
    "PC_M = StateMonitor(PC_neuron, 'v', record=True)\n",
    "IN_M = StateMonitor(IN_neuron, 'v', record=True)\n",
    "\n",
    "PC_S2 = SpikeMonitor(PC_neuron2)                                \n",
    "PC_S = SpikeMonitor(PC_neuron)\n",
    "IN_S = SpikeMonitor(IN_neuron)\n",
    "df = pd.DataFrame()\n",
    "#setting the dataframe\n",
    "weigths = [-0.5,-10,-50,-200]\n",
    "\n",
    "store()\n",
    "for weigth in weigths: \n",
    "    restore()\n",
    "    \n",
    "    syn.w = [weigth]\n",
    "    run(duration*ms)\n",
    "    \n",
    "    #IN_spike  = make_spiketrain(IN_S,duration,dt)\n",
    "    PC_spike  = make_spiketrain(PC_S,duration,dt)\n",
    "    #PC_spike2 = make_spiketrain(PC_S2, duration, dt)\n",
    "    \n",
    "    result_PC  = analyze_exp('PC_post',ron_PC, roff_PC, hidden_state, input_theory, dt, 0, PC_spike)\n",
    "    #result_IN  = analyze_exp('IN'     , ron_PC, roff_PC, hidden_state, input_theory, dt, 0, IN_spike)\n",
    "    #result_PC2 = analyze_exp('PC_pre' , ron_PC, roff_PC, hidden_state, input_theory, dt, 0, PC_spike2)\n",
    "    \n",
    "    frames = [df,result_PC]# result_IN, result_PC2]\n",
    "    df = pd.concat(frames)\n",
    "    "
   ]
  },
  {
   "cell_type": "code",
   "execution_count": null,
   "metadata": {
    "pycharm": {
     "name": "#%%\n"
    }
   },
   "outputs": [],
   "source": [
    "df"
   ]
  },
  {
   "cell_type": "code",
   "execution_count": null,
   "metadata": {
    "pycharm": {
     "name": "#%%\n"
    }
   },
   "outputs": [],
   "source": [
    "df.pop('xhat_i')\n",
    "df.pop('qon')\n",
    "df.pop('qoff')\n",
    "df.pop('xhatspikes')"
   ]
  },
  {
   "cell_type": "code",
   "execution_count": null,
   "metadata": {
    "pycharm": {
     "name": "#%%\n"
    }
   },
   "outputs": [],
   "source": [
    "df"
   ]
  },
  {
   "cell_type": "code",
   "execution_count": null,
   "metadata": {
    "pycharm": {
     "name": "#%%\n"
    }
   },
   "outputs": [],
   "source": []
  },
  {
   "cell_type": "code",
   "execution_count": 31,
   "metadata": {
    "pycharm": {
     "name": "#%%\n"
    }
   },
   "outputs": [
    {
     "data": {
      "text/plain": [
       "0    [0.3333333333333333, 0.3332428044715169, 0.333...\n",
       "0    [0.3333333333333333, 0.3332591208582837, 0.333...\n",
       "0    [0.3333333333333333, 0.333275402540963, 0.3332...\n",
       "0    [0.3333333333333333, 0.3332991649270926, 0.333...\n",
       "Name: xhatspikes, dtype: object"
      ]
     },
     "execution_count": 31,
     "metadata": {},
     "output_type": "execute_result"
    }
   ],
   "source": [
    "df.pop('xhat_i')\n",
    "df.pop('qon')\n",
    "df.pop('qoff')\n",
    "df.pop('xhatspikes')"
   ]
  },
  {
   "cell_type": "code",
   "execution_count": 32,
   "metadata": {
    "pycharm": {
     "name": "#%%\n"
    }
   },
   "outputs": [
    {
     "data": {
      "text/html": [
       "<div>\n",
       "<style scoped>\n",
       "    .dataframe tbody tr th:only-of-type {\n",
       "        vertical-align: middle;\n",
       "    }\n",
       "\n",
       "    .dataframe tbody tr th {\n",
       "        vertical-align: top;\n",
       "    }\n",
       "\n",
       "    .dataframe thead th {\n",
       "        text-align: right;\n",
       "    }\n",
       "</style>\n",
       "<table border=\"1\" class=\"dataframe\">\n",
       "  <thead>\n",
       "    <tr style=\"text-align: right;\">\n",
       "      <th></th>\n",
       "      <th>Type</th>\n",
       "      <th>MI_i</th>\n",
       "      <th>MSE_i</th>\n",
       "      <th>MI</th>\n",
       "      <th>MSE</th>\n",
       "    </tr>\n",
       "  </thead>\n",
       "  <tbody>\n",
       "    <tr>\n",
       "      <th>0</th>\n",
       "      <td>PC_post</td>\n",
       "      <td>0.255811</td>\n",
       "      <td>73262.466353</td>\n",
       "      <td>0.044862</td>\n",
       "      <td>102912.069776</td>\n",
       "    </tr>\n",
       "    <tr>\n",
       "      <th>0</th>\n",
       "      <td>PC_post</td>\n",
       "      <td>0.255811</td>\n",
       "      <td>73262.466353</td>\n",
       "      <td>0.036872</td>\n",
       "      <td>104165.542255</td>\n",
       "    </tr>\n",
       "    <tr>\n",
       "      <th>0</th>\n",
       "      <td>PC_post</td>\n",
       "      <td>0.255811</td>\n",
       "      <td>73262.466353</td>\n",
       "      <td>0.030882</td>\n",
       "      <td>105138.863851</td>\n",
       "    </tr>\n",
       "    <tr>\n",
       "      <th>0</th>\n",
       "      <td>PC_post</td>\n",
       "      <td>0.255811</td>\n",
       "      <td>73262.466353</td>\n",
       "      <td>0.011723</td>\n",
       "      <td>108209.923345</td>\n",
       "    </tr>\n",
       "  </tbody>\n",
       "</table>\n",
       "</div>"
      ],
      "text/plain": [
       "      Type      MI_i         MSE_i        MI            MSE\n",
       "0  PC_post  0.255811  73262.466353  0.044862  102912.069776\n",
       "0  PC_post  0.255811  73262.466353  0.036872  104165.542255\n",
       "0  PC_post  0.255811  73262.466353  0.030882  105138.863851\n",
       "0  PC_post  0.255811  73262.466353  0.011723  108209.923345"
      ]
     },
     "execution_count": 32,
     "metadata": {},
     "output_type": "execute_result"
    }
   ],
   "source": [
    "df"
   ]
  },
  {
   "cell_type": "code",
   "execution_count": null,
   "metadata": {
    "pycharm": {
     "name": "#%%\n"
    }
   },
   "outputs": [],
   "source": []
  }
 ],
 "metadata": {
  "kernelspec": {
   "display_name": "Python 3 (ipykernel)",
   "language": "python",
   "name": "python3"
  },
  "language_info": {
   "codemirror_mode": {
    "name": "ipython",
    "version": 3
   },
   "file_extension": ".py",
   "mimetype": "text/x-python",
   "name": "python",
   "nbconvert_exporter": "python",
   "pygments_lexer": "ipython3",
   "version": "3.8.13"
  }
 },
 "nbformat": 4,
 "nbformat_minor": 1
}