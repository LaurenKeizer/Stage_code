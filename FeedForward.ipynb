{
 "cells": [
  {
   "cell_type": "markdown",
   "source": [
    "## Feed Forward model\n",
    "File containing the code for the feedforward model."
   ],
   "metadata": {
    "collapsed": false
   }
  },
  {
   "cell_type": "code",
   "execution_count": 2,
   "outputs": [],
   "source": [
    "from foundations.helpers import scale_input_theory\n",
    "from brian2 import *\n",
    "import numpy as np\n",
    "import pandas as pd\n",
    "from models.currentmodel import Barrel_PC, Barrel_IN\n",
    "from foundations.helpers import make_spiketrain\n",
    "from foundations.helpers import scale_to_freq\n",
    "from foundations.MutaulInformation import analyze_exp\n",
    "from foundations.make_dynamic_experiments import make_dynamic_experiments\n",
    "%matplotlib inline"
   ],
   "metadata": {
    "collapsed": false
   }
  },
  {
   "cell_type": "code",
   "execution_count": 3,
   "outputs": [],
   "source": [
    "qon_qoff_type = 'balanced'\n",
    "baseline = 0  \n",
    "theta = 0     \n",
    "factor_ron_roff = 2    \n",
    "tau_PC = 200\n",
    "ron_PC = 1./(tau_PC*(1+factor_ron_roff))\n",
    "roff_PC = factor_ron_roff*ron_PC\n",
    "mean_firing_rate = (0.1)/1000\n",
    "duration = 100000\n",
    "sampling_rate = 5   \n",
    "#scales = {'CC_PC':19, 'DC_PC':30, 'CC_IN':17, 'DC_IN':6}\n",
    "dt = 1/sampling_rate \n",
    "defaultclock.dt = dt*ms\n",
    "on_off_ratio = 1.5\n",
    "target_PC = 1.4233\n",
    "scale_list = np.append([1], np.arange(2.5, 302.5, 2.5))"
   ],
   "metadata": {
    "collapsed": false
   }
  },
  {
   "cell_type": "code",
   "execution_count": 4,
   "outputs": [],
   "source": [
    "#Getting the input, generating the same one for both pyramidal cell and interneuron\n",
    "#also doing the scaling the same\n",
    "[input_theory, hidden_state] = make_dynamic_experiments(qon_qoff_type, baseline, tau_PC, factor_ron_roff, mean_firing_rate, sampling_rate, duration)\n",
    "inj_input = scale_input_theory(input_theory, 0, 17, dt)"
   ],
   "metadata": {
    "collapsed": false
   }
  },
  {
   "cell_type": "markdown",
   "source": [
    "# The feedforward simulation"
   ],
   "metadata": {
    "collapsed": false
   }
  },
  {
   "cell_type": "code",
   "execution_count": 5,
   "outputs": [
    {
     "ename": "TypeError",
     "evalue": "__init__() missing 1 required positional argument: 'inj_input'",
     "output_type": "error",
     "traceback": [
      "\u001B[1;31m---------------------------------------------------------------------------\u001B[0m",
      "\u001B[1;31mTypeError\u001B[0m                                 Traceback (most recent call last)",
      "Input \u001B[1;32mIn [5]\u001B[0m, in \u001B[0;36m<cell line: 4>\u001B[1;34m()\u001B[0m\n\u001B[0;32m      1\u001B[0m \u001B[38;5;66;03m#The feedforward simulation\u001B[39;00m\n\u001B[0;32m      2\u001B[0m start_scope()\n\u001B[1;32m----> 4\u001B[0m PC \u001B[38;5;241m=\u001B[39m \u001B[43mBarrel_PC\u001B[49m\u001B[43m(\u001B[49m\u001B[43mdt\u001B[49m\u001B[38;5;241;43m=\u001B[39;49m\u001B[43mdt\u001B[49m\u001B[43m)\u001B[49m\n\u001B[0;32m      5\u001B[0m PC2 \u001B[38;5;241m=\u001B[39m Barrel_PC(dt\u001B[38;5;241m=\u001B[39mdt)\n\u001B[0;32m      6\u001B[0m IN \u001B[38;5;241m=\u001B[39m Barrel_IN(dt\u001B[38;5;241m=\u001B[39mdt)\n",
      "\u001B[1;31mTypeError\u001B[0m: __init__() missing 1 required positional argument: 'inj_input'"
     ]
    }
   ],
   "source": [
    "#The feedforward simulation\n",
    "start_scope()\n",
    "\n",
    "PC = Barrel_PC(dt=dt)\n",
    "PC2 = Barrel_PC(dt=dt)\n",
    "IN = Barrel_IN(dt=dt)\n",
    "\n",
    "PC_neuron2 = PC2.getNeurongroup()\n",
    "PC_neuron =  PC.getNeurongroup()\n",
    "IN_neuron = IN.getNeurongroup()\n",
    "\n",
    "param = PC.getNamespace().update(IN.getNamespace())                                \n",
    "syn = Synapses(IN_neuron, PC_neuron, model = 'w : 1', on_pre='''v += w*mV''', namespace = param)\n",
    "syn.connect()\n",
    "syn.w = [-50]\n",
    "\n",
    "PC_M2 = StateMonitor(PC_neuron2, 'v', record=True)                                \n",
    "PC_M = StateMonitor(PC_neuron, 'v', record=True)\n",
    "IN_M = StateMonitor(IN_neuron, 'v', record=True)\n",
    "\n",
    "PC_S2 = SpikeMonitor(PC_neuron2)                                \n",
    "PC_S = SpikeMonitor(PC_neuron)\n",
    "IN_S = SpikeMonitor(IN_neuron)\n",
    "\n",
    "                                 \n",
    "run(duration*ms)"
   ],
   "metadata": {
    "collapsed": false
   }
  },
  {
   "cell_type": "code",
   "execution_count": null,
   "outputs": [],
   "source": [
    "figure(figsize=(10, 10))\n",
    "subplot(221)\n",
    "plot(PC_M2.t/ms, PC_M2.v[0], label='pre_PC')\n",
    "legend()\n",
    "\n",
    "subplot(222)\n",
    "plot(IN_M.t/ms, IN_M.v[0], label=\"pre_IN\")\n",
    "legend()\n",
    "\n",
    "\n",
    "subplot(223)\n",
    "plot(PC_M.t/ms, PC_M.v[0], label='post_PC')\n",
    "legend()\n",
    "\n",
    "subplot(224)\n",
    "plot(PC_M.t/ms, PC_M.v[0], label=\"post_PC\")\n",
    "legend()\n",
    "xlabel('Time (ms)');"
   ],
   "metadata": {
    "collapsed": false
   }
  },
  {
   "cell_type": "code",
   "execution_count": null,
   "outputs": [],
   "source": [
    "figure(figsize=(10, 4))\n",
    "subplot(311)\n",
    "plot(PC_M2.t/ms, PC_M2.v[0], label='pre_PC', color = 'r')\n",
    "legend()\n",
    "subplot(312)\n",
    "plot(IN_M.t/ms, IN_M.v[0], label=\"pre_IN\", color = 'r')\n",
    "legend()\n",
    "subplot(313)\n",
    "plot(PC_M.t/ms, PC_M.v[0], label=\"post_PC\", color = 'r')\n",
    "legend()"
   ],
   "metadata": {
    "collapsed": false
   }
  },
  {
   "cell_type": "code",
   "execution_count": null,
   "outputs": [],
   "source": [
    "#making the spike trains and doing the MI calculations\n",
    "IN_spike  = make_spiketrain(IN_S,duration,dt)\n",
    "PC_spike  = make_spiketrain(PC_S,duration,dt)\n",
    "PC_spike2 = make_spiketrain(PC_S2, duration, dt)"
   ],
   "metadata": {
    "collapsed": false
   }
  },
  {
   "cell_type": "code",
   "execution_count": null,
   "outputs": [],
   "source": [
    "hidden_state"
   ],
   "metadata": {
    "collapsed": false
   }
  },
  {
   "cell_type": "code",
   "execution_count": null,
   "outputs": [],
   "source": [
    "result_PC  = analyze_exp('PC_post', ron_PC, roff_PC, hidden_state, input_theory, dt, 0, PC_spike)\n",
    "result_IN  = analyze_exp('IN'     , ron_PC, roff_PC, hidden_state, input_theory, dt, 0, IN_spike)\n",
    "result_PC2 = analyze_exp('PC_pre' , ron_PC, roff_PC, hidden_state, input_theory, dt, 0, PC_spike2)"
   ],
   "metadata": {
    "collapsed": false
   }
  },
  {
   "cell_type": "code",
   "execution_count": null,
   "outputs": [],
   "source": [],
   "metadata": {
    "collapsed": false
   }
  },
  {
   "cell_type": "markdown",
   "source": [
    "### Estimating parameters Feedforward"
   ],
   "metadata": {
    "collapsed": false
   }
  },
  {
   "cell_type": "code",
   "execution_count": null,
   "outputs": [],
   "source": [
    "#The feedforward simulation\n",
    "start_scope()\n",
    "\n",
    "PC = Barrel_PC(dt=dt)\n",
    "PC2 = Barrel_PC(dt=dt)\n",
    "IN = Barrel_IN(dt=dt)\n",
    "\n",
    "PC_neuron2 = PC2.getNeurongroup()\n",
    "PC_neuron = PC.getNeurongroup()\n",
    "IN_neuron = IN.getNeurongroup()\n",
    "\n",
    "param = PC.getNamespace().update(IN.getNamespace())                                \n",
    "syn = Synapses(IN_neuron, PC_neuron, model = 'w : 1', on_pre='''v += w*mV''', namespace = param)\n",
    "syn.connect()\n",
    "\n",
    "PC_M2 = StateMonitor(PC_neuron2, 'v', record=True)                                \n",
    "PC_M = StateMonitor(PC_neuron, 'v', record=True)\n",
    "IN_M = StateMonitor(IN_neuron, 'v', record=True)\n",
    "\n",
    "PC_S2 = SpikeMonitor(PC_neuron2)                                \n",
    "PC_S = SpikeMonitor(PC_neuron)\n",
    "IN_S = SpikeMonitor(IN_neuron)\n",
    "df = pd.DataFrame()\n",
    "#setting the dataframe\n",
    "weigths = [-0.5,-10,-50,-200]\n",
    "\n",
    "store()\n",
    "for weigth in weigths: \n",
    "    restore()\n",
    "    \n",
    "    syn.w = [weigth]\n",
    "    run(duration*ms)\n",
    "    \n",
    "    IN_spike  = make_spiketrain(IN_S,duration,dt)\n",
    "    PC_spike  = make_spiketrain(PC_S,duration,dt)\n",
    "    PC_spike2 = make_spiketrain(PC_S2, duration, dt)\n",
    "    \n",
    "    result_PC  = analyze_exp('PC_post',ron_PC, roff_PC, hidden_state, input_theory, dt, 0, PC_spike)\n",
    "    result_IN  = analyze_exp('IN'     , ron_PC, roff_PC, hidden_state, input_theory, dt, 0, IN_spike)\n",
    "    result_PC2 = analyze_exp('PC_pre' , ron_PC, roff_PC, hidden_state, input_theory, dt, 0, PC_spike2)\n",
    "    \n",
    "    frames = [df,result_PC, result_IN, result_PC2]\n",
    "    df = pd.concat(frames)\n",
    "    "
   ],
   "metadata": {
    "collapsed": false
   }
  },
  {
   "cell_type": "code",
   "execution_count": null,
   "outputs": [],
   "source": [
    "df"
   ],
   "metadata": {
    "collapsed": false
   }
  },
  {
   "cell_type": "code",
   "execution_count": null,
   "outputs": [],
   "source": [
    "#The feedforward simulation\n",
    "start_scope()\n",
    "\n",
    "\n",
    "PC = Barrel_PC(dt=dt)\n",
    "PC2 = Barrel_PC(dt=dt)\n",
    "IN = Barrel_IN(dt=dt)\n",
    "\n",
    "PC_neuron2 = PC2.getNeurongroup()\n",
    "PC_neuron = PC.getNeurongroup()\n",
    "IN_neuron = IN.getNeurongroup()\n",
    "\n",
    "param = PC.getNamespace().update(IN.getNamespace())                                \n",
    "syn = Synapses(IN_neuron, PC_neuron, model = 'w : 1', on_pre='''v += w*mV''', namespace = param)\n",
    "syn.connect()\n",
    "\n",
    "PC_M2 = StateMonitor(PC_neuron2, 'v', record=True)                                \n",
    "PC_M = StateMonitor(PC_neuron, 'v', record=True)\n",
    "IN_M = StateMonitor(IN_neuron, 'v', record=True)\n",
    "\n",
    "PC_S2 = SpikeMonitor(PC_neuron2)                                \n",
    "PC_S = SpikeMonitor(PC_neuron)\n",
    "IN_S = SpikeMonitor(IN_neuron)\n",
    "df = pd.DataFrame()\n",
    "#setting the dataframe\n",
    "weigths = [-0.5,-10,-50,-200]\n",
    "\n",
    "store()\n",
    "for weigth in weigths: \n",
    "    restore()\n",
    "    \n",
    "    syn.w = [weigth]\n",
    "    run(duration*ms)\n",
    "    \n",
    "    #IN_spike  = make_spiketrain(IN_S,duration,dt)\n",
    "    PC_spike  = make_spiketrain(PC_S,duration,dt)\n",
    "    #PC_spike2 = make_spiketrain(PC_S2, duration, dt)\n",
    "    \n",
    "    result_PC  = analyze_exp('PC_post',ron_PC, roff_PC, hidden_state, input_theory, dt, 0, PC_spike)\n",
    "    #result_IN  = analyze_exp('IN'     , ron_PC, roff_PC, hidden_state, input_theory, dt, 0, IN_spike)\n",
    "    #result_PC2 = analyze_exp('PC_pre' , ron_PC, roff_PC, hidden_state, input_theory, dt, 0, PC_spike2)\n",
    "    \n",
    "    frames = [df,result_PC]# result_IN, result_PC2]\n",
    "    df = pd.concat(frames)\n",
    "    "
   ],
   "metadata": {
    "collapsed": false
   }
  },
  {
   "cell_type": "code",
   "execution_count": null,
   "outputs": [],
   "source": [
    "df"
   ],
   "metadata": {
    "collapsed": false
   }
  }
 ],
 "metadata": {
  "kernelspec": {
   "display_name": "Python 3 (ipykernel)",
   "language": "python",
   "name": "python3"
  },
  "language_info": {
   "codemirror_mode": {
    "name": "ipython",
    "version": 3
   },
   "file_extension": ".py",
   "mimetype": "text/x-python",
   "name": "python",
   "nbconvert_exporter": "python",
   "pygments_lexer": "ipython3",
   "version": "3.8.13"
  }
 },
 "nbformat": 4,
 "nbformat_minor": 1
}
